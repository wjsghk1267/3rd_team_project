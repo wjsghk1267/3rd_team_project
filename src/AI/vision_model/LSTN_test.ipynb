{
 "cells": [
  {
   "cell_type": "code",
   "execution_count": 8,
   "metadata": {},
   "outputs": [
    {
     "name": "stderr",
     "output_type": "stream",
     "text": [
      "ERROR: Could not find a version that satisfies the requirement keras-applications0 (from versions: none)\n",
      "ERROR: No matching distribution found for keras-applications0\n"
     ]
    }
   ],
   "source": [
    "!pip install -q tensorflow keras numpy pillow h5py torch opencv-python scikit-learn\n",
    "!pip install -q keras-applications0\n",
    "!pip install -q keras-preprocessing\n",
    "!pip install -q keras-resnet\n",
    "!pip install -q scikit-learn numpy"
   ]
  },
  {
   "cell_type": "code",
   "execution_count": 2,
   "metadata": {},
   "outputs": [
    {
     "ename": "PermissionError",
     "evalue": "[Errno 13] Permission denied: 'E:/LSTN_test/data/ARCH'",
     "output_type": "error",
     "traceback": [
      "\u001b[1;31m---------------------------------------------------------------------------\u001b[0m",
      "\u001b[1;31mPermissionError\u001b[0m                           Traceback (most recent call last)",
      "Cell \u001b[1;32mIn[2], line 75\u001b[0m\n\u001b[0;32m     72\u001b[0m \u001b[38;5;66;03m# JSON 파일 경로 리스트\u001b[39;00m\n\u001b[0;32m     73\u001b[0m json_files \u001b[38;5;241m=\u001b[39m [\u001b[38;5;124m'\u001b[39m\u001b[38;5;124mE:/LSTN_test/data/ARCH\u001b[39m\u001b[38;5;124m'\u001b[39m]\n\u001b[1;32m---> 75\u001b[0m X, y, metadata, action_classes \u001b[38;5;241m=\u001b[39m \u001b[43mprepare_dataset\u001b[49m\u001b[43m(\u001b[49m\u001b[43mjson_files\u001b[49m\u001b[43m)\u001b[49m\n\u001b[0;32m     77\u001b[0m \u001b[38;5;28mprint\u001b[39m(\u001b[38;5;124mf\u001b[39m\u001b[38;5;124m\"\u001b[39m\u001b[38;5;124m총 샘플 수: \u001b[39m\u001b[38;5;132;01m{\u001b[39;00m\u001b[38;5;28mlen\u001b[39m(X)\u001b[38;5;132;01m}\u001b[39;00m\u001b[38;5;124m\"\u001b[39m)\n\u001b[0;32m     79\u001b[0m \u001b[38;5;28;01mif\u001b[39;00m \u001b[38;5;28mlen\u001b[39m(X) \u001b[38;5;241m==\u001b[39m \u001b[38;5;241m0\u001b[39m:\n",
      "Cell \u001b[1;32mIn[2], line 39\u001b[0m, in \u001b[0;36mprepare_dataset\u001b[1;34m(json_files)\u001b[0m\n\u001b[0;32m     36\u001b[0m all_metadata \u001b[38;5;241m=\u001b[39m []\n\u001b[0;32m     38\u001b[0m \u001b[38;5;28;01mfor\u001b[39;00m json_file \u001b[38;5;129;01min\u001b[39;00m json_files:\n\u001b[1;32m---> 39\u001b[0m     X, y, metadata \u001b[38;5;241m=\u001b[39m \u001b[43mload_and_preprocess_data\u001b[49m\u001b[43m(\u001b[49m\u001b[43mjson_file\u001b[49m\u001b[43m)\u001b[49m\n\u001b[0;32m     40\u001b[0m     X_all\u001b[38;5;241m.\u001b[39mextend(X)\n\u001b[0;32m     41\u001b[0m     y_all\u001b[38;5;241m.\u001b[39mextend(y)\n",
      "Cell \u001b[1;32mIn[2], line 11\u001b[0m, in \u001b[0;36mload_and_preprocess_data\u001b[1;34m(json_path)\u001b[0m\n\u001b[0;32m     10\u001b[0m \u001b[38;5;28;01mdef\u001b[39;00m \u001b[38;5;21mload_and_preprocess_data\u001b[39m(json_path):\n\u001b[1;32m---> 11\u001b[0m     \u001b[38;5;28;01mwith\u001b[39;00m \u001b[38;5;28;43mopen\u001b[39;49m\u001b[43m(\u001b[49m\u001b[43mjson_path\u001b[49m\u001b[43m,\u001b[49m\u001b[43m \u001b[49m\u001b[38;5;124;43m'\u001b[39;49m\u001b[38;5;124;43mr\u001b[39;49m\u001b[38;5;124;43m'\u001b[39;49m\u001b[43m,\u001b[49m\u001b[43m \u001b[49m\u001b[43mencoding\u001b[49m\u001b[38;5;241;43m=\u001b[39;49m\u001b[38;5;124;43m'\u001b[39;49m\u001b[38;5;124;43mutf-8\u001b[39;49m\u001b[38;5;124;43m'\u001b[39;49m\u001b[43m)\u001b[49m \u001b[38;5;28;01mas\u001b[39;00m f:\n\u001b[0;32m     12\u001b[0m         data \u001b[38;5;241m=\u001b[39m json\u001b[38;5;241m.\u001b[39mload(f)\n\u001b[0;32m     14\u001b[0m     metadata \u001b[38;5;241m=\u001b[39m data[\u001b[38;5;124m'\u001b[39m\u001b[38;5;124mmetadata\u001b[39m\u001b[38;5;124m'\u001b[39m]\n",
      "File \u001b[1;32m~\\AppData\\Roaming\\Python\\Python312\\site-packages\\IPython\\core\\interactiveshell.py:324\u001b[0m, in \u001b[0;36m_modified_open\u001b[1;34m(file, *args, **kwargs)\u001b[0m\n\u001b[0;32m    317\u001b[0m \u001b[38;5;28;01mif\u001b[39;00m file \u001b[38;5;129;01min\u001b[39;00m {\u001b[38;5;241m0\u001b[39m, \u001b[38;5;241m1\u001b[39m, \u001b[38;5;241m2\u001b[39m}:\n\u001b[0;32m    318\u001b[0m     \u001b[38;5;28;01mraise\u001b[39;00m \u001b[38;5;167;01mValueError\u001b[39;00m(\n\u001b[0;32m    319\u001b[0m         \u001b[38;5;124mf\u001b[39m\u001b[38;5;124m\"\u001b[39m\u001b[38;5;124mIPython won\u001b[39m\u001b[38;5;124m'\u001b[39m\u001b[38;5;124mt let you open fd=\u001b[39m\u001b[38;5;132;01m{\u001b[39;00mfile\u001b[38;5;132;01m}\u001b[39;00m\u001b[38;5;124m by default \u001b[39m\u001b[38;5;124m\"\u001b[39m\n\u001b[0;32m    320\u001b[0m         \u001b[38;5;124m\"\u001b[39m\u001b[38;5;124mas it is likely to crash IPython. If you know what you are doing, \u001b[39m\u001b[38;5;124m\"\u001b[39m\n\u001b[0;32m    321\u001b[0m         \u001b[38;5;124m\"\u001b[39m\u001b[38;5;124myou can use builtins\u001b[39m\u001b[38;5;124m'\u001b[39m\u001b[38;5;124m open.\u001b[39m\u001b[38;5;124m\"\u001b[39m\n\u001b[0;32m    322\u001b[0m     )\n\u001b[1;32m--> 324\u001b[0m \u001b[38;5;28;01mreturn\u001b[39;00m \u001b[43mio_open\u001b[49m\u001b[43m(\u001b[49m\u001b[43mfile\u001b[49m\u001b[43m,\u001b[49m\u001b[43m \u001b[49m\u001b[38;5;241;43m*\u001b[39;49m\u001b[43margs\u001b[49m\u001b[43m,\u001b[49m\u001b[43m \u001b[49m\u001b[38;5;241;43m*\u001b[39;49m\u001b[38;5;241;43m*\u001b[39;49m\u001b[43mkwargs\u001b[49m\u001b[43m)\u001b[49m\n",
      "\u001b[1;31mPermissionError\u001b[0m: [Errno 13] Permission denied: 'E:/LSTN_test/data/ARCH'"
     ]
    }
   ],
   "source": [
    "import json\n",
    "import os\n",
    "import numpy as np\n",
    "import torch\n",
    "import torch.nn as nn\n",
    "import torch.optim as optim\n",
    "from torch.utils.data import DataLoader, TensorDataset\n",
    "from sklearn.model_selection import train_test_split\n",
    "\n",
    "def load_and_preprocess_data(json_path):\n",
    "    with open(json_path, 'r', encoding='utf-8') as f:\n",
    "        data = json.load(f)\n",
    "    \n",
    "    metadata = data['metadata']\n",
    "    action = metadata['inspect']['action']\n",
    "    \n",
    "    X = []\n",
    "    y = []\n",
    "    \n",
    "    for annotation in data['annotations']:\n",
    "        frame_keypoints = []\n",
    "        for i in range(1, 16):\n",
    "            kp = annotation['keypoints'].get(str(i))\n",
    "            if kp:\n",
    "                frame_keypoints.extend([kp['x'], kp['y']])\n",
    "            else:\n",
    "                frame_keypoints.extend([0, 0])\n",
    "        X.append(frame_keypoints)\n",
    "        y.append(action)\n",
    "    \n",
    "    return np.array(X), y, metadata\n",
    "\n",
    "def prepare_dataset(json_files):\n",
    "    X_all = []\n",
    "    y_all = []\n",
    "    all_metadata = []\n",
    "    \n",
    "    for json_file in json_files:\n",
    "        X, y, metadata = load_and_preprocess_data(json_file)\n",
    "        X_all.extend(X)\n",
    "        y_all.extend(y)\n",
    "        all_metadata.append(metadata)\n",
    "    \n",
    "    X_all = np.array(X_all)\n",
    "    \n",
    "    unique_actions = list(set(y_all))\n",
    "    action_to_index = {action: index for index, action in enumerate(unique_actions)}\n",
    "    y_encoded = [action_to_index[action] for action in y_all]\n",
    "    \n",
    "    return X_all, np.array(y_encoded), all_metadata, unique_actions\n",
    "\n",
    "class LSTMModel(nn.Module):\n",
    "    def __init__(self, input_size, hidden_size, num_layers, num_classes):\n",
    "        super(LSTMModel, self).__init__()\n",
    "        self.hidden_size = hidden_size\n",
    "        self.num_layers = num_layers\n",
    "        self.lstm = nn.LSTM(input_size, hidden_size, num_layers, batch_first=True)\n",
    "        self.dropout = nn.Dropout(0.2)\n",
    "        self.fc1 = nn.Linear(hidden_size, 16)\n",
    "        self.fc2 = nn.Linear(16, num_classes)\n",
    "        self.relu = nn.ReLU()\n",
    "    \n",
    "    def forward(self, x):\n",
    "        h0 = torch.zeros(self.num_layers, x.size(0), self.hidden_size).to(x.device)\n",
    "        c0 = torch.zeros(self.num_layers, x.size(0), self.hidden_size).to(x.device)\n",
    "        out, _ = self.lstm(x, (h0, c0))\n",
    "        out = self.dropout(out[:, -1, :])\n",
    "        out = self.relu(self.fc1(out))\n",
    "        out = self.fc2(out)\n",
    "        return out\n",
    "\n",
    "# JSON 파일 경로 리스트\n",
    "json_files = ['E:/LSTN_test/data/ARCH/20201028_cat-arch-000156.mp4.json']\n",
    "\n",
    "X, y, metadata, action_classes = prepare_dataset(json_files)\n",
    "\n",
    "print(f\"총 샘플 수: {len(X)}\")\n",
    "\n",
    "if len(X) == 0:\n",
    "    print(\"처리할 수 있는 이미지가 없습니다. 프로그램을 종료합니다.\")\n",
    "    exit()\n",
    "\n",
    "# 데이터 분할\n",
    "X_train, X_test, y_train, y_test = train_test_split(X, y, test_size=0.2, random_state=42)\n",
    "\n",
    "# PyTorch 텐서로 변환\n",
    "X_train = torch.FloatTensor(X_train).unsqueeze(1)  # (batch_size, 1, feature_size)\n",
    "X_test = torch.FloatTensor(X_test).unsqueeze(1)\n",
    "y_train = torch.LongTensor(y_train)\n",
    "y_test = torch.LongTensor(y_test)\n",
    "\n",
    "# 데이터로더 생성\n",
    "train_dataset = TensorDataset(X_train, y_train)\n",
    "test_dataset = TensorDataset(X_test, y_test)\n",
    "train_loader = DataLoader(train_dataset, batch_size=32, shuffle=True)\n",
    "test_loader = DataLoader(test_dataset, batch_size=32, shuffle=False)\n",
    "\n",
    "# 모델 초기화\n",
    "input_size = X.shape[1]\n",
    "hidden_size = 64\n",
    "num_layers = 2\n",
    "num_classes = len(action_classes)\n",
    "\n",
    "model = LSTMModel(input_size, hidden_size, num_layers, num_classes)\n",
    "criterion = nn.CrossEntropyLoss()\n",
    "optimizer = optim.Adam(model.parameters())\n",
    "\n",
    "# 학습\n",
    "num_epochs = 50\n",
    "device = torch.device(\"cuda\" if torch.cuda.is_available() else \"cpu\")\n",
    "model.to(device)\n",
    "\n",
    "for epoch in range(num_epochs):\n",
    "    model.train()\n",
    "    for batch_X, batch_y in train_loader:\n",
    "        batch_X, batch_y = batch_X.to(device), batch_y.to(device)\n",
    "        optimizer.zero_grad()\n",
    "        outputs = model(batch_X)\n",
    "        loss = criterion(outputs, batch_y)\n",
    "        loss.backward()\n",
    "        optimizer.step()\n",
    "    \n",
    "    # 검증\n",
    "    model.eval()\n",
    "    with torch.no_grad():\n",
    "        correct = 0\n",
    "        total = 0\n",
    "        for batch_X, batch_y in test_loader:\n",
    "            batch_X, batch_y = batch_X.to(device), batch_y.to(device)\n",
    "            outputs = model(batch_X)\n",
    "            _, predicted = torch.max(outputs.data, 1)\n",
    "            total += batch_y.size(0)\n",
    "            correct += (predicted == batch_y).sum().item()\n",
    "        \n",
    "        accuracy = 100 * correct / total\n",
    "        print(f'Epoch [{epoch+1}/{num_epochs}], Accuracy: {accuracy:.2f}%')\n",
    "\n",
    "# 최종 테스트\n",
    "model.eval()\n",
    "with torch.no_grad():\n",
    "    correct = 0\n",
    "    total = 0\n",
    "    for batch_X, batch_y in test_loader:\n",
    "        batch_X, batch_y = batch_X.to(device), batch_y.to(device)\n",
    "        outputs = model(batch_X)\n",
    "        _, predicted = torch.max(outputs.data, 1)\n",
    "        total += batch_y.size(0)\n",
    "        correct += (predicted == batch_y).sum().item()\n",
    "    \n",
    "    accuracy = 100 * correct / total\n",
    "    print(f'테스트 정확도: {accuracy:.2f}%')\n",
    "\n",
    "# 메타데이터 활용 예시\n",
    "print(\"\\n메타데이터 예시:\")\n",
    "print(json.dumps(metadata[0], indent=2, ensure_ascii=False))\n",
    "\n",
    "print(\"\\n행동 클래스:\")\n",
    "for i, action in enumerate(action_classes):\n",
    "    print(f\"{i}: {action}\")"
   ]
  },
  {
   "cell_type": "code",
   "execution_count": 12,
   "metadata": {},
   "outputs": [
    {
     "name": "stdout",
     "output_type": "stream",
     "text": [
      "\u001b[1m1/1\u001b[0m \u001b[32m━━━━━━━━━━━━━━━━━━━━\u001b[0m\u001b[37m\u001b[0m \u001b[1m0s\u001b[0m 26ms/step - accuracy: 1.0000 - loss: 0.0000e+00\n",
      "테스트 정확도: 1.0\n",
      "\u001b[1m1/1\u001b[0m \u001b[32m━━━━━━━━━━━━━━━━━━━━\u001b[0m\u001b[37m\u001b[0m \u001b[1m0s\u001b[0m 21ms/step\n",
      "\n",
      "예측 결과:\n",
      "0: 0\n",
      "1: 0\n",
      "2: 0\n",
      "3: 0\n",
      "4: 0\n"
     ]
    }
   ],
   "source": [
    "# 모델 평가\n",
    "loss, accuracy = model.evaluate(X_test, y_test)\n",
    "print(f\"테스트 정확도: {accuracy}\")\n",
    "# 모델 예측\n",
    "predictions = model.predict(X_test)\n",
    "predicted_behaviors = np.argmax(predictions, axis=1)\n",
    "\n",
    "# 예측 결과 출력\n",
    "print(\"\\n예측 결과:\")\n",
    "for i, behavior in enumerate(predicted_behaviors):\n",
    "    print(f\"{i}: {behavior}\")"
   ]
  },
  {
   "cell_type": "code",
   "execution_count": 16,
   "metadata": {},
   "outputs": [
    {
     "name": "stdout",
     "output_type": "stream",
     "text": [
      "PyTorch 모델이 'lstm_model.pt' 파일로 저장되었습니다.\n"
     ]
    }
   ],
   "source": [
    "import torch\n",
    "import torch.nn as nn\n",
    "from tensorflow.keras.models import load_model\n",
    "from tensorflow.keras.layers import LSTM, Dense\n",
    "import numpy as np\n",
    "\n",
    "def keras_to_pytorch(keras_model):\n",
    "    class PyTorchLSTM(nn.Module):\n",
    "        def __init__(self, input_size, hidden_size, num_layers, num_classes):\n",
    "            super(PyTorchLSTM, self).__init__()\n",
    "            self.hidden_size = hidden_size\n",
    "            self.num_layers = num_layers\n",
    "            self.lstm = nn.LSTM(input_size, hidden_size, num_layers, batch_first=True)\n",
    "            self.fc = nn.Linear(hidden_size, num_classes)\n",
    "        \n",
    "        def forward(self, x):\n",
    "            h0 = torch.zeros(self.num_layers, x.size(0), self.hidden_size).to(x.device)\n",
    "            c0 = torch.zeros(self.num_layers, x.size(0), self.hidden_size).to(x.device)\n",
    "            out, _ = self.lstm(x, (h0, c0))\n",
    "            out = self.fc(out[:, -1, :])\n",
    "            return out\n",
    "\n",
    "    input_size = keras_model.input_shape[-1]\n",
    "    hidden_size = keras_model.layers[0].units\n",
    "    num_layers = sum(1 for layer in keras_model.layers if isinstance(layer, LSTM))\n",
    "    num_classes = keras_model.output_shape[-1]\n",
    "\n",
    "    pytorch_model = PyTorchLSTM(input_size, hidden_size, num_layers, num_classes)\n",
    "    \n",
    "    # Keras 모델의 가중치를 PyTorch 모델로 복사\n",
    "    for i, layer in enumerate(keras_model.layers):\n",
    "        if isinstance(layer, LSTM):\n",
    "            weights = layer.get_weights()\n",
    "            if len(weights) == 3:  # Keras LSTM은 보통 3개의 가중치 배열을 가집니다\n",
    "                # 입력 가중치, 순환 가중치, 편향\n",
    "                input_weights, recurrent_weights, bias = weights\n",
    "                pytorch_model.lstm.weight_ih_l0.data = torch.FloatTensor(input_weights.T)\n",
    "                pytorch_model.lstm.weight_hh_l0.data = torch.FloatTensor(recurrent_weights.T)\n",
    "                # Keras의 편향은 입력 게이트, 망각 게이트, 셀 게이트, 출력 게이트 순서입니다\n",
    "                # PyTorch는 입력 게이트, 망각 게이트, 셀 게이트, 출력 게이트 순서입니다\n",
    "                pytorch_model.lstm.bias_ih_l0.data = torch.FloatTensor(bias[:hidden_size*4])\n",
    "                pytorch_model.lstm.bias_hh_l0.data = torch.FloatTensor(bias[hidden_size*4:])\n",
    "        elif isinstance(layer, Dense):\n",
    "            weights, bias = layer.get_weights()\n",
    "            pytorch_model.fc.weight.data = torch.FloatTensor(weights.T)\n",
    "            pytorch_model.fc.bias.data = torch.FloatTensor(bias)\n",
    "\n",
    "    return pytorch_model\n",
    "\n",
    "# Keras 모델을 PyTorch 모델로 변환\n",
    "pytorch_model = keras_to_pytorch(model)\n",
    "\n",
    "# PyTorch 모델 저장\n",
    "torch.save(pytorch_model.state_dict(), 'lstm_model.pt')\n",
    "\n",
    "print(\"PyTorch 모델이 'lstm_model.pt' 파일로 저장되었습니다.\")"
   ]
  },
  {
   "cell_type": "code",
   "execution_count": 22,
   "metadata": {},
   "outputs": [
    {
     "name": "stdout",
     "output_type": "stream",
     "text": [
      "모델 상태 키:\n",
      "lstm.weight_ih_l0\n",
      "lstm.weight_hh_l0\n",
      "lstm.bias_ih_l0\n",
      "lstm.bias_hh_l0\n",
      "lstm.weight_ih_l1\n",
      "lstm.weight_hh_l1\n",
      "lstm.bias_ih_l1\n",
      "lstm.bias_hh_l1\n",
      "fc.weight\n",
      "fc.bias\n",
      "\n",
      "각 레이어의 형태:\n",
      "lstm.weight_ih_l0: torch.Size([128, 64])\n",
      "lstm.weight_hh_l0: torch.Size([128, 32])\n",
      "lstm.bias_ih_l0: torch.Size([128])\n",
      "lstm.bias_hh_l0: torch.Size([0])\n",
      "lstm.weight_ih_l1: torch.Size([256, 64])\n",
      "lstm.weight_hh_l1: torch.Size([256, 64])\n",
      "lstm.bias_ih_l1: torch.Size([256])\n",
      "lstm.bias_hh_l1: torch.Size([256])\n",
      "fc.weight: torch.Size([1, 16])\n",
      "fc.bias: torch.Size([1])\n",
      "\n",
      "LSTM 입력 크기: 64\n",
      "LSTM 은닉 상태 크기: 32\n",
      "LSTM 레이어 수: 2\n",
      "출력 크기: 1\n"
     ]
    },
    {
     "name": "stderr",
     "output_type": "stream",
     "text": [
      "C:\\Users\\Administrator\\AppData\\Local\\Temp\\ipykernel_12192\\148980449.py:4: FutureWarning: You are using `torch.load` with `weights_only=False` (the current default value), which uses the default pickle module implicitly. It is possible to construct malicious pickle data which will execute arbitrary code during unpickling (See https://github.com/pytorch/pytorch/blob/main/SECURITY.md#untrusted-models for more details). In a future release, the default value for `weights_only` will be flipped to `True`. This limits the functions that could be executed during unpickling. Arbitrary objects will no longer be allowed to be loaded via this mode unless they are explicitly allowlisted by the user via `torch.serialization.add_safe_globals`. We recommend you start setting `weights_only=True` for any use case where you don't have full control of the loaded file. Please open an issue on GitHub for any issues related to this experimental feature.\n",
      "  saved_model = torch.load('lstm_model.pt')\n"
     ]
    }
   ],
   "source": [
    "import torch\n",
    "\n",
    "# 저장된 모델 로드\n",
    "saved_model = torch.load('lstm_model.pt')\n",
    "\n",
    "# 모델 상태 확인\n",
    "print(\"모델 상태 키:\")\n",
    "for key in saved_model.keys():\n",
    "    print(key)\n",
    "\n",
    "print(\"\\n각 레이어의 형태:\")\n",
    "for key, value in saved_model.items():\n",
    "    print(f\"{key}: {value.shape}\")\n",
    "\n",
    "# LSTM 레이어의 입력 및 은닉 상태 크기 확인\n",
    "if 'lstm.weight_ih_l0' in saved_model:\n",
    "    input_size = saved_model['lstm.weight_ih_l0'].shape[1]\n",
    "    hidden_size = saved_model['lstm.weight_ih_l0'].shape[0] // 4\n",
    "    print(f\"\\nLSTM 입력 크기: {input_size}\")\n",
    "    print(f\"LSTM 은닉 상태 크기: {hidden_size}\")\n",
    "\n",
    "# LSTM 레이어 수 확인\n",
    "num_layers = sum(1 for key in saved_model if key.startswith('lstm.weight_ih_l'))\n",
    "print(f\"LSTM 레이어 수: {num_layers}\")\n",
    "\n",
    "# 출력 레이어(fc) 크기 확인\n",
    "if 'fc.weight' in saved_model:\n",
    "    output_size = saved_model['fc.weight'].shape[0]\n",
    "    print(f\"출력 크기: {output_size}\")"
   ]
  },
  {
   "cell_type": "code",
   "execution_count": 2,
   "metadata": {},
   "outputs": [
    {
     "name": "stdout",
     "output_type": "stream",
     "text": [
      "처리된 이미지: frame_0_timestamp_0.jpg\n",
      "처리된 이미지: frame_12_timestamp_800.jpg\n",
      "처리된 이미지: frame_15_timestamp_1000.jpg\n",
      "처리된 이미지: frame_102_timestamp_6800.jpg\n",
      "처리된 이미지: frame_105_timestamp_7000.jpg\n",
      "처리된 이미지: frame_108_timestamp_7200.jpg\n",
      "처리된 이미지: frame_111_timestamp_7400.jpg\n",
      "처리된 이미지: frame_114_timestamp_7600.jpg\n",
      "처리된 이미지: frame_117_timestamp_7800.jpg\n",
      "처리된 이미지: frame_120_timestamp_8000.jpg\n",
      "처리된 이미지: frame_123_timestamp_8200.jpg\n",
      "처리된 이미지: frame_126_timestamp_8400.jpg\n",
      "처리된 이미지: frame_129_timestamp_8600.jpg\n",
      "처리된 이미지: frame_132_timestamp_8800.jpg\n",
      "처리된 이미지: frame_135_timestamp_9000.jpg\n",
      "처리된 이미지: frame_138_timestamp_9200.jpg\n",
      "처리된 이미지: frame_141_timestamp_9400.jpg\n",
      "처리된 이미지: frame_144_timestamp_9600.jpg\n",
      "처리된 이미지: frame_147_timestamp_9800.jpg\n",
      "처리된 이미지: frame_150_timestamp_10000.jpg\n",
      "처리된 이미지: frame_153_timestamp_10200.jpg\n",
      "처리된 이미지: frame_156_timestamp_10400.jpg\n",
      "처리된 이미지: frame_159_timestamp_10600.jpg\n",
      "처리된 이미지: frame_162_timestamp_10800.jpg\n",
      "처리된 이미지: frame_165_timestamp_11000.jpg\n",
      "동영상이 성공적으로 생성되었습니다: test.mp4\n"
     ]
    }
   ],
   "source": [
    "import cv2\n",
    "import os\n",
    "import re\n",
    "\n",
    "# 이미지 파일이 있는 디렉토리 경로\n",
    "이미지_디렉토리 = r'E:\\LSTN_test\\data\\img\\20201028_cat-arch-000156.mp4'\n",
    "\n",
    "# 출력할 동영상 파일 이름\n",
    "출력_비디오 = 'test.mp4'\n",
    "\n",
    "# 프레임 번호를 추출하는 함수\n",
    "def get_frame_number(filename):\n",
    "    match = re.search(r'frame_(\\d+)_', filename)\n",
    "    return int(match.group(1)) if match else -1\n",
    "\n",
    "# 이미지 파일 목록 가져오기 및 정렬\n",
    "이미지_파일들 = [f for f in os.listdir(이미지_디렉토리) if f.endswith('.jpg') or f.endswith('.png')]\n",
    "이미지_파일들.sort(key=get_frame_number)  # 프레임 번호 기준으로 정렬\n",
    "\n",
    "if not 이미지_파일들:\n",
    "    print(\"이미지 파일을 찾을 수 없습니다.\")\n",
    "    exit()\n",
    "\n",
    "# 첫 번째 이미지로 비디오 writer 초기화\n",
    "첫_이미지_경로 = os.path.join(이미지_디렉토리, 이미지_파일들[0])\n",
    "첫_이미지 = cv2.imread(첫_이미지_경로)\n",
    "\n",
    "if 첫_이미지 is None:\n",
    "    print(f\"이미지를 열 수 없습니다: {첫_이미지_경로}\")\n",
    "    exit()\n",
    "\n",
    "높이, 너비, _ = 첫_이미지.shape\n",
    "fps = 15  # 초당 프레임 수 설정\n",
    "\n",
    "fourcc = cv2.VideoWriter_fourcc(*'mp4v')\n",
    "비디오_writer = cv2.VideoWriter(출력_비디오, fourcc, fps, (너비, 높이))\n",
    "\n",
    "# 각 이미지를 비디오 프레임으로 추가\n",
    "for 이미지_파일 in 이미지_파일들:\n",
    "    이미지_경로 = os.path.join(이미지_디렉토리, 이미지_파일)\n",
    "    프레임 = cv2.imread(이미지_경로)\n",
    "    \n",
    "    if 프레임 is None:\n",
    "        print(f\"이미지를 열 수 없습니다: {이미지_경로}\")\n",
    "        continue\n",
    "    \n",
    "    비디오_writer.write(프레임)\n",
    "\n",
    "# 비디오 writer 해제\n",
    "비디오_writer.release()\n",
    "\n",
    "print(f\"동영상이 성공적으로 생성되었습니다: {출력_비디오}\")"
   ]
  },
  {
   "cell_type": "markdown",
   "metadata": {},
   "source": [
    "## 0929 데이터 전처리"
   ]
  },
  {
   "cell_type": "code",
   "execution_count": 4,
   "metadata": {},
   "outputs": [
    {
     "name": "stdout",
     "output_type": "stream",
     "text": [
      "데이터 변환 완료\n"
     ]
    }
   ],
   "source": [
    "import numpy as np\n",
    "import json\n",
    "import os\n",
    "\n",
    "def convert_json_to_lstm_sequence(json_file):\n",
    "    with open(json_file, 'r', encoding='utf-8') as f:\n",
    "        data = json.load(f)\n",
    "    \n",
    "    sequence = []\n",
    "    for annotation in data['annotations']:\n",
    "        frame_features = []\n",
    "        \n",
    "        # Bounding box\n",
    "        bbox = annotation['bounding_box']\n",
    "        frame_features.extend([bbox['x'], bbox['y'], bbox['width'], bbox['height']])\n",
    "        \n",
    "        # Keypoints\n",
    "        for i in range(1, 16):\n",
    "            kp = annotation['keypoints'].get(str(i))\n",
    "            if kp:\n",
    "                frame_features.extend([kp['x'], kp['y']])\n",
    "            else:\n",
    "                frame_features.extend([0, 0])\n",
    "        \n",
    "        sequence.append(frame_features)\n",
    "    \n",
    "    # 메타데이터에서 레이블 정보 추출\n",
    "    label = data['metadata']['action']\n",
    "    \n",
    "    return sequence, label\n",
    "\n",
    "def process_all_json_files(base_folder, output_folder):\n",
    "    all_sequences = []\n",
    "    all_labels = []\n",
    "    \n",
    "    for root, dirs, files in os.walk(base_folder):\n",
    "        for file in files:\n",
    "            if file.endswith('.json'):\n",
    "                json_file_path = os.path.join(root, file)\n",
    "                sequence, label = convert_json_to_lstm_sequence(json_file_path)\n",
    "                all_sequences.append(sequence)\n",
    "                all_labels.append(label)\n",
    "    \n",
    "    # 가장 긴 시퀀스의 길이 찾기\n",
    "    max_seq_length = max(len(seq) for seq in all_sequences)\n",
    "    \n",
    "    # 패딩 적용\n",
    "    padded_sequences = []\n",
    "    for seq in all_sequences:\n",
    "        padded_seq = seq + [[0] * len(seq[0])] * (max_seq_length - len(seq))\n",
    "        padded_sequences.append(padded_seq)\n",
    "    \n",
    "    # 데이터를 NumPy 배열로 저장\n",
    "    np.save(os.path.join(output_folder, 'lstm_sequences.npy'), np.array(padded_sequences))\n",
    "    np.save(os.path.join(output_folder, 'lstm_labels.npy'), np.array(all_labels))\n",
    "\n",
    "# 실행\n",
    "base_folder = r\"G:\\workspace\\test\\ARCH\"\n",
    "output_folder = r\"G:\\workspace\\LSTN_test\\models\"\n",
    "\n",
    "os.makedirs(output_folder, exist_ok=True)\n",
    "process_all_json_files(base_folder, output_folder)\n",
    "print(\"데이터 변환 완료\")"
   ]
  },
  {
   "cell_type": "code",
   "execution_count": 12,
   "metadata": {},
   "outputs": [
    {
     "name": "stdout",
     "output_type": "stream",
     "text": [
      "라벨 샘플:\n",
      "['허리를 아치로 세움' '허리를 아치로 세움' '허리를 아치로 세움' '허리를 아치로 세움' '허리를 아치로 세우는 동작'\n",
      " '허리를 아치로 세움' '허리를 아치로 세우는 동작' '허리를 아치로 세우는 동작' '허리를 아치로 세우는 동작'\n",
      " '허리를 아치로 세우는 동작']\n",
      "\n",
      "고유한 라벨:\n",
      "['허리를 아치로 세우는 동작' '허리를 아치로 세움']\n"
     ]
    }
   ],
   "source": [
    "import numpy as np\n",
    "\n",
    "labels_path = r\"G:\\workspace\\LSTN_test\\models\\lstm_labels.npy\"\n",
    "labels = np.load(labels_path, allow_pickle=True)\n",
    "\n",
    "print(\"라벨 샘플:\")\n",
    "print(labels[:10])  # 처음 10개 라벨 출력\n",
    "print(\"\\n고유한 라벨:\")\n",
    "print(np.unique(labels))"
   ]
  },
  {
   "cell_type": "code",
   "execution_count": 13,
   "metadata": {},
   "outputs": [
    {
     "name": "stdout",
     "output_type": "stream",
     "text": [
      "변환 후 라벨 샘플:\n",
      "[ 0  0  0  0 -1  0 -1 -1 -1 -1]\n",
      "\n",
      "고유한 라벨:\n",
      "[-1  0]\n"
     ]
    }
   ],
   "source": [
    "def load_and_preprocess_data(sequences_path, labels_path):\n",
    "    sequences = np.load(sequences_path, allow_pickle=True)\n",
    "    labels = np.load(labels_path, allow_pickle=True)\n",
    "    \n",
    "    # 라벨 매핑 (한글 설명을 'ARCH'로 변환)\n",
    "    label_mapping = {\"허리를 아치로 세움\": \"ARCH\"}\n",
    "    labels = np.array([label_mapping.get(str(label), str(label)) for label in labels])\n",
    "    \n",
    "    # 라벨을 클래스 ID로 변환\n",
    "    labels = np.array([ALL_POSE_CLASSES.get(label, -1) for label in labels])\n",
    "    \n",
    "    # 시퀀스 길이 정규화 (패딩 또는 잘라내기)\n",
    "    max_seq_length = max(len(seq) for seq in sequences)\n",
    "    padded_sequences = np.zeros((len(sequences), max_seq_length, sequences[0].shape[1]))\n",
    "    for i, seq in enumerate(sequences):\n",
    "        padded_sequences[i, :len(seq), :] = seq[:max_seq_length]\n",
    "    \n",
    "    return padded_sequences, labels\n",
    "\n",
    "# 메인 코드\n",
    "sequences_path = r\"G:\\workspace\\LSTN_test\\models\\lstm_sequences.npy\"\n",
    "labels_path = r\"G:\\workspace\\LSTN_test\\models\\lstm_labels.npy\"\n",
    "sequences, labels = load_and_preprocess_data(sequences_path, labels_path)\n",
    "\n",
    "print(\"변환 후 라벨 샘플:\")\n",
    "print(labels[:10])\n",
    "print(\"\\n고유한 라벨:\")\n",
    "print(np.unique(labels))"
   ]
  },
  {
   "cell_type": "code",
   "execution_count": 20,
   "metadata": {},
   "outputs": [
    {
     "ename": "ValueError",
     "evalue": "max() arg is an empty sequence",
     "output_type": "error",
     "traceback": [
      "\u001b[1;31m---------------------------------------------------------------------------\u001b[0m",
      "\u001b[1;31mValueError\u001b[0m                                Traceback (most recent call last)",
      "Cell \u001b[1;32mIn[20], line 101\u001b[0m\n\u001b[0;32m     98\u001b[0m numeric_labels \u001b[38;5;241m=\u001b[39m np\u001b[38;5;241m.\u001b[39marray([label_to_id[label] \u001b[38;5;28;01mfor\u001b[39;00m label \u001b[38;5;129;01min\u001b[39;00m labels])\n\u001b[0;32m    100\u001b[0m \u001b[38;5;66;03m# 시퀀스 패딩\u001b[39;00m\n\u001b[1;32m--> 101\u001b[0m padded_sequences \u001b[38;5;241m=\u001b[39m \u001b[43mpad_sequences\u001b[49m\u001b[43m(\u001b[49m\u001b[43msequences\u001b[49m\u001b[43m)\u001b[49m\n\u001b[0;32m    103\u001b[0m \u001b[38;5;66;03m# 데이터 분할\u001b[39;00m\n\u001b[0;32m    104\u001b[0m X_train, X_val, y_train, y_val \u001b[38;5;241m=\u001b[39m train_test_split(padded_sequences, numeric_labels, test_size\u001b[38;5;241m=\u001b[39m\u001b[38;5;241m0.2\u001b[39m, random_state\u001b[38;5;241m=\u001b[39m\u001b[38;5;241m42\u001b[39m)\n",
      "Cell \u001b[1;32mIn[20], line 53\u001b[0m, in \u001b[0;36mpad_sequences\u001b[1;34m(sequences)\u001b[0m\n\u001b[0;32m     52\u001b[0m \u001b[38;5;28;01mdef\u001b[39;00m \u001b[38;5;21mpad_sequences\u001b[39m(sequences):\n\u001b[1;32m---> 53\u001b[0m     max_seq_length \u001b[38;5;241m=\u001b[39m \u001b[38;5;28;43mmax\u001b[39;49m\u001b[43m(\u001b[49m\u001b[38;5;28;43mlen\u001b[39;49m\u001b[43m(\u001b[49m\u001b[43mseq\u001b[49m\u001b[43m)\u001b[49m\u001b[43m \u001b[49m\u001b[38;5;28;43;01mfor\u001b[39;49;00m\u001b[43m \u001b[49m\u001b[43mseq\u001b[49m\u001b[43m \u001b[49m\u001b[38;5;129;43;01min\u001b[39;49;00m\u001b[43m \u001b[49m\u001b[43msequences\u001b[49m\u001b[43m)\u001b[49m\n\u001b[0;32m     54\u001b[0m     padded_sequences \u001b[38;5;241m=\u001b[39m np\u001b[38;5;241m.\u001b[39mzeros((\u001b[38;5;28mlen\u001b[39m(sequences), max_seq_length, sequences[\u001b[38;5;241m0\u001b[39m]\u001b[38;5;241m.\u001b[39mshape[\u001b[38;5;241m1\u001b[39m]))\n\u001b[0;32m     55\u001b[0m     \u001b[38;5;28;01mfor\u001b[39;00m i, seq \u001b[38;5;129;01min\u001b[39;00m \u001b[38;5;28menumerate\u001b[39m(sequences):\n",
      "\u001b[1;31mValueError\u001b[0m: max() arg is an empty sequence"
     ]
    }
   ],
   "source": [
    "import numpy as np\n",
    "import torch\n",
    "import torch.nn as nn\n",
    "import torch.optim as optim\n",
    "from torch.utils.data import DataLoader, TensorDataset\n",
    "from sklearn.model_selection import train_test_split\n",
    "import os\n",
    "import json\n",
    "\n",
    "# LSTM 모델 정의\n",
    "class AnimalPoseLSTM(nn.Module):\n",
    "    def __init__(self, input_size, hidden_size, num_layers, num_classes):\n",
    "        super(AnimalPoseLSTM, self).__init__()\n",
    "        self.hidden_size = hidden_size\n",
    "        self.num_layers = num_layers\n",
    "        self.lstm = nn.LSTM(input_size, hidden_size, num_layers, batch_first=True)\n",
    "        self.fc = nn.Linear(hidden_size, num_classes)\n",
    "    \n",
    "    def forward(self, x):\n",
    "        h0 = torch.zeros(self.num_layers, x.size(0), self.hidden_size).to(x.device)\n",
    "        c0 = torch.zeros(self.num_layers, x.size(0), self.hidden_size).to(x.device)\n",
    "        out, _ = self.lstm(x, (h0, c0))\n",
    "        out = self.fc(out[:, -1, :])\n",
    "        return out\n",
    "\n",
    "# JSON 파일에서 라벨 추출\n",
    "def extract_label_from_json(json_file_path):\n",
    "    with open(json_file_path, 'r', encoding='utf-8') as f:\n",
    "        data = json.load(f)\n",
    "    return data['metadata']['action']\n",
    "\n",
    "# 시퀀스와 라벨 로드\n",
    "def load_sequences_and_labels(base_folder):\n",
    "    sequences = []\n",
    "    labels = []\n",
    "    for root, dirs, files in os.walk(base_folder):\n",
    "        for file in files:\n",
    "            if file.endswith('.json'):\n",
    "                json_file_path = os.path.join(root, file)\n",
    "                sequence_file_path = json_file_path.replace('.json', '.npy')\n",
    "                \n",
    "                print(f\"Checking JSON file: {json_file_path}\")\n",
    "                print(f\"Corresponding sequence file: {sequence_file_path}\")\n",
    "                \n",
    "                if os.path.exists(sequence_file_path):\n",
    "                    sequence = np.load(sequence_file_path, allow_pickle=True)\n",
    "                    label = extract_label_from_json(json_file_path)\n",
    "                    \n",
    "                    sequences.append(sequence)\n",
    "                    labels.append(label)\n",
    "                    print(f\"Loaded sequence and label: {label}\")\n",
    "                else:\n",
    "                    print(f\"Sequence file not found: {sequence_file_path}\")\n",
    "    \n",
    "    print(f\"Total sequences loaded: {len(sequences)}\")\n",
    "    return np.array(sequences), np.array(labels)\n",
    "\n",
    "# 시퀀스 패딩\n",
    "def pad_sequences(sequences):\n",
    "    if len(sequences) == 0:\n",
    "        print(\"No sequences to pad. Please check your data.\")\n",
    "        return np.array([])\n",
    "    \n",
    "    max_seq_length = max(len(seq) for seq in sequences)\n",
    "    padded_sequences = np.zeros((len(sequences), max_seq_length, sequences[0].shape[1]))\n",
    "    for i, seq in enumerate(sequences):\n",
    "        padded_sequences[i, :len(seq), :] = seq\n",
    "    return padded_sequences\n",
    "\n",
    "# 모델 학습 함수\n",
    "def train_model(model, train_loader, val_loader, criterion, optimizer, num_epochs, device):\n",
    "    for epoch in range(num_epochs):\n",
    "        model.train()\n",
    "        train_loss = 0.0\n",
    "        for batch_sequences, batch_labels in train_loader:\n",
    "            batch_sequences, batch_labels = batch_sequences.to(device), batch_labels.to(device)\n",
    "            optimizer.zero_grad()\n",
    "            outputs = model(batch_sequences)\n",
    "            loss = criterion(outputs, batch_labels)\n",
    "            loss.backward()\n",
    "            optimizer.step()\n",
    "            train_loss += loss.item()\n",
    "        \n",
    "        model.eval()\n",
    "        val_loss = 0.0\n",
    "        correct = 0\n",
    "        total = 0\n",
    "        with torch.no_grad():\n",
    "            for batch_sequences, batch_labels in val_loader:\n",
    "                batch_sequences, batch_labels = batch_sequences.to(device), batch_labels.to(device)\n",
    "                outputs = model(batch_sequences)\n",
    "                loss = criterion(outputs, batch_labels)\n",
    "                val_loss += loss.item()\n",
    "                _, predicted = torch.max(outputs.data, 1)\n",
    "                total += batch_labels.size(0)\n",
    "                correct += (predicted == batch_labels).sum().item()\n",
    "        \n",
    "        print(f'Epoch [{epoch+1}/{num_epochs}], Train Loss: {train_loss/len(train_loader):.4f}, '\n",
    "              f'Val Loss: {val_loss/len(val_loader):.4f}, Val Accuracy: {100 * correct / total:.2f}%')\n",
    "\n",
    "# 메인 실행 코드\n",
    "if __name__ == \"__main__\":\n",
    "    base_folder = r\"G:\\workspace\\반려동물 구분을 위한 동물 영상\\Training\"\n",
    "    print(f\"Base folder: {base_folder}\")\n",
    "    print(f\"Folder exists: {os.path.exists(base_folder)}\")\n",
    "    \n",
    "    sequences, labels = load_sequences_and_labels(base_folder)\n",
    "    \n",
    "    if len(sequences) == 0:\n",
    "        print(\"No sequences found. Please check the data folder and file paths.\")\n",
    "        exit()\n",
    "    \n",
    "    # 라벨을 클래스 ID로 변환\n",
    "    unique_labels = np.unique(labels)\n",
    "    label_to_id = {label: idx for idx, label in enumerate(unique_labels)}\n",
    "    numeric_labels = np.array([label_to_id[label] for label in labels])\n",
    "    \n",
    "    # 시퀀스 패딩\n",
    "    padded_sequences = pad_sequences(sequences)\n",
    "    \n",
    "    # 데이터 분할\n",
    "    X_train, X_val, y_train, y_val = train_test_split(padded_sequences, numeric_labels, test_size=0.2, random_state=42)\n",
    "    \n",
    "    # PyTorch 텐서로 변환\n",
    "    X_train = torch.FloatTensor(X_train)\n",
    "    X_val = torch.FloatTensor(X_val)\n",
    "    y_train = torch.LongTensor(y_train)\n",
    "    y_val = torch.LongTensor(y_val)\n",
    "    \n",
    "    # 데이터로더 생성\n",
    "    train_dataset = TensorDataset(X_train, y_train)\n",
    "    val_dataset = TensorDataset(X_val, y_val)\n",
    "    train_loader = DataLoader(train_dataset, batch_size=32, shuffle=True)\n",
    "    val_loader = DataLoader(val_dataset, batch_size=32, shuffle=False)\n",
    "    \n",
    "    # 모델 파라미터 설정\n",
    "    input_size = padded_sequences.shape[2]  # 특징 수\n",
    "    hidden_size = 128\n",
    "    num_layers = 2\n",
    "    num_classes = len(unique_labels)\n",
    "    \n",
    "    # 모델, 손실 함수, 옵티마이저 초기화\n",
    "    device = torch.device(\"cuda\" if torch.cuda.is_available() else \"cpu\")\n",
    "    model = AnimalPoseLSTM(input_size, hidden_size, num_layers, num_classes).to(device)\n",
    "    criterion = nn.CrossEntropyLoss()\n",
    "    optimizer = optim.Adam(model.parameters())\n",
    "    \n",
    "    # 모델 학습\n",
    "    num_epochs = 50\n",
    "    train_model(model, train_loader, val_loader, criterion, optimizer, num_epochs, device)\n",
    "    \n",
    "    # 모델 저장\n",
    "    torch.save({\n",
    "        'model_state_dict': model.state_dict(),\n",
    "        'optimizer_state_dict': optimizer.state_dict(),\n",
    "        'input_size': input_size,\n",
    "        'hidden_size': hidden_size,\n",
    "        'num_layers': num_layers,\n",
    "        'num_classes': num_classes,\n",
    "        'label_to_id': label_to_id\n",
    "    }, 'animal_pose_lstm_model.pt')\n",
    "    \n",
    "    print(\"모델 학습 완료 및 저장됨\")"
   ]
  },
  {
   "cell_type": "code",
   "execution_count": 2,
   "metadata": {},
   "outputs": [
    {
     "name": "stdout",
     "output_type": "stream",
     "text": [
      "Requirement already satisfied: numpy in c:\\users\\wjsgh\\appdata\\local\\programs\\python\\python311\\lib\\site-packages (1.26.4)\n",
      "Collecting numpy\n",
      "  Downloading numpy-2.1.1-cp311-cp311-win_amd64.whl.metadata (59 kB)\n",
      "Requirement already satisfied: scikit-learn in c:\\users\\wjsgh\\appdata\\local\\programs\\python\\python311\\lib\\site-packages (1.5.2)\n",
      "Requirement already satisfied: scipy>=1.6.0 in c:\\users\\wjsgh\\appdata\\local\\programs\\python\\python311\\lib\\site-packages (from scikit-learn) (1.14.1)\n",
      "Requirement already satisfied: joblib>=1.2.0 in c:\\users\\wjsgh\\appdata\\local\\programs\\python\\python311\\lib\\site-packages (from scikit-learn) (1.4.2)\n",
      "Requirement already satisfied: threadpoolctl>=3.1.0 in c:\\users\\wjsgh\\appdata\\local\\programs\\python\\python311\\lib\\site-packages (from scikit-learn) (3.5.0)\n",
      "Downloading numpy-2.1.1-cp311-cp311-win_amd64.whl (12.9 MB)\n",
      "   ---------------------------------------- 0.0/12.9 MB ? eta -:--:--\n",
      "   --------------------- ------------------ 6.8/12.9 MB 34.9 MB/s eta 0:00:01\n",
      "   ---------------------------------------  12.8/12.9 MB 35.0 MB/s eta 0:00:01\n",
      "   ---------------------------------------- 12.9/12.9 MB 25.2 MB/s eta 0:00:00\n",
      "Installing collected packages: numpy\n",
      "  Attempting uninstall: numpy\n",
      "    Found existing installation: numpy 1.26.4\n",
      "    Uninstalling numpy-1.26.4:\n",
      "      Successfully uninstalled numpy-1.26.4\n",
      "Successfully installed numpy-2.1.1\n",
      "Note: you may need to restart the kernel to use updated packages.\n"
     ]
    },
    {
     "name": "stderr",
     "output_type": "stream",
     "text": [
      "ERROR: pip's dependency resolver does not currently take into account all the packages that are installed. This behaviour is the source of the following dependency conflicts.\n",
      "tensorflow-intel 2.17.0 requires numpy<2.0.0,>=1.23.5; python_version <= \"3.11\", but you have numpy 2.1.1 which is incompatible.\n"
     ]
    }
   ],
   "source": [
    "%pip install --upgrade numpy scikit-learn\n"
   ]
  },
  {
   "cell_type": "code",
   "execution_count": null,
   "metadata": {},
   "outputs": [],
   "source": [
    "import torch\n",
    "from your_model_file import AnimalPoseLSTM  # 모델 클래스가 정의된 파일을 임포트\n",
    "\n",
    "def load_pretrained_model(model_path):\n",
    "    checkpoint = torch.load(model_path)\n",
    "    model = AnimalPoseLSTM(\n",
    "        input_size=checkpoint['input_size'],\n",
    "        hidden_size=checkpoint['hidden_size'],\n",
    "        num_layers=checkpoint['num_layers'],\n",
    "        num_classes=checkpoint['num_classes']\n",
    "    )\n",
    "    model.load_state_dict(checkpoint['model_state_dict'])\n",
    "    return model\n",
    "\n",
    "# 사전 학습된 모델 로드\n",
    "pretrained_model = load_pretrained_model('animal_pose_lstm_model.pt')\n",
    "\n",
    "# 이제 이 모델을 사용하거나 추가 학습을 진행할 수 있습니다."
   ]
  },
  {
   "cell_type": "code",
   "execution_count": 9,
   "metadata": {},
   "outputs": [
    {
     "name": "stdout",
     "output_type": "stream",
     "text": [
      "라벨 샘플:\n",
      "['허리를 아치로 세움' '허리를 아치로 세움' '허리를 아치로 세움' '허리를 아치로 세움' '허리를 아치로 세우는 동작'\n",
      " '허리를 아치로 세움' '허리를 아치로 세우는 동작' '허리를 아치로 세우는 동작' '허리를 아치로 세우는 동작'\n",
      " '허리를 아치로 세우는 동작']\n",
      "\n",
      "고유한 라벨:\n",
      "['허리를 아치로 세우는 동작' '허리를 아치로 세움']\n"
     ]
    }
   ],
   "source": [
    "import numpy as np\n",
    "\n",
    "labels_path = r\"G:\\workspace\\LSTN_test\\models\\lstm_labels.npy\"\n",
    "labels = np.load(labels_path, allow_pickle=True)\n",
    "\n",
    "print(\"라벨 샘플:\")\n",
    "print(labels[:10])  # 처음 10개 라벨 출력\n",
    "print(\"\\n고유한 라벨:\")\n",
    "print(np.unique(labels))"
   ]
  },
  {
   "cell_type": "markdown",
   "metadata": {},
   "source": [
    "## 0930"
   ]
  },
  {
   "cell_type": "code",
   "execution_count": 6,
   "metadata": {},
   "outputs": [
    {
     "name": "stdout",
     "output_type": "stream",
     "text": [
      "에포크 [1/50], 손실: 0.5182, 그래디언트 노름: 1.6670, 정확도: 100.00%\n",
      "에포크 [2/50], 손실: 0.3133, 그래디언트 노름: 1.4948, 정확도: 100.00%\n",
      "에포크 [3/50], 손실: 0.1361, 그래디언트 노름: 1.3629, 정확도: 100.00%\n",
      "에포크 [4/50], 손실: 0.1119, 그래디언트 노름: 0.7842, 정확도: 100.00%\n",
      "에포크 [5/50], 손실: 0.0915, 그래디언트 노름: 0.4429, 정확도: 100.00%\n",
      "에포크 [6/50], 손실: 0.0899, 그래디언트 노름: 0.4656, 정확도: 100.00%\n",
      "에포크 [7/50], 손실: 0.0862, 그래디언트 노름: 0.2622, 정확도: 100.00%\n",
      "에포크 [8/50], 손실: 0.0772, 그래디언트 노름: 0.1540, 정확도: 100.00%\n",
      "에포크 [9/50], 손실: 0.0992, 그래디언트 노름: 0.7957, 정확도: 100.00%\n",
      "에포크 [10/50], 손실: 0.0798, 그래디언트 노름: 3.5282, 정확도: 100.00%\n",
      "에포크 [11/50], 손실: 0.0646, 그래디언트 노름: 0.2749, 정확도: 100.00%\n",
      "에포크 [12/50], 손실: 0.0585, 그래디언트 노름: 0.4495, 정확도: 100.00%\n",
      "에포크 [13/50], 손실: 0.0515, 그래디언트 노름: 0.2447, 정확도: 100.00%\n",
      "에포크 [14/50], 손실: 0.0375, 그래디언트 노름: 0.2452, 정확도: 100.00%\n",
      "에포크 [15/50], 손실: 0.0298, 그래디언트 노름: 0.1709, 정확도: 100.00%\n",
      "에포크 [16/50], 손실: 0.0307, 그래디언트 노름: 0.7722, 정확도: 100.00%\n",
      "에포크 [17/50], 손실: 0.0231, 그래디언트 노름: 0.1060, 정확도: 100.00%\n",
      "에포크 [18/50], 손실: 0.0168, 그래디언트 노름: 0.1158, 정확도: 100.00%\n",
      "에포크 [19/50], 손실: 0.0450, 그래디언트 노름: 0.0919, 정확도: 97.22%\n",
      "에포크 [20/50], 손실: 0.0452, 그래디언트 노름: 2.2796, 정확도: 97.22%\n",
      "에포크 [21/50], 손실: 0.0123, 그래디언트 노름: 0.0851, 정확도: 97.22%\n",
      "에포크 [22/50], 손실: 0.0100, 그래디언트 노름: 0.0789, 정확도: 97.22%\n",
      "에포크 [23/50], 손실: 0.0080, 그래디언트 노름: 0.0464, 정확도: 97.22%\n",
      "에포크 [24/50], 손실: 0.0074, 그래디언트 노름: 0.0369, 정확도: 100.00%\n",
      "에포크 [25/50], 손실: 0.0062, 그래디언트 노름: 0.1342, 정확도: 100.00%\n",
      "에포크 [26/50], 손실: 0.0052, 그래디언트 노름: 0.0264, 정확도: 100.00%\n",
      "에포크 [27/50], 손실: 0.0403, 그래디언트 노름: 0.0883, 정확도: 100.00%\n",
      "에포크 [28/50], 손실: 0.0037, 그래디언트 노름: 0.0207, 정확도: 100.00%\n",
      "에포크 [29/50], 손실: 0.0036, 그래디언트 노름: 0.0208, 정확도: 97.22%\n",
      "에포크 [30/50], 손실: 0.0032, 그래디언트 노름: 0.0189, 정확도: 97.22%\n",
      "에포크 [31/50], 손실: 0.0033, 그래디언트 노름: 0.0202, 정확도: 97.22%\n",
      "에포크 [32/50], 손실: 0.0034, 그래디언트 노름: 0.0196, 정확도: 97.22%\n",
      "에포크 [33/50], 손실: 0.0025, 그래디언트 노름: 0.0157, 정확도: 97.22%\n",
      "에포크 [34/50], 손실: 0.0028, 그래디언트 노름: 0.0162, 정확도: 100.00%\n",
      "에포크 [35/50], 손실: 0.0021, 그래디언트 노름: 0.0127, 정확도: 100.00%\n",
      "에포크 [36/50], 손실: 0.0019, 그래디언트 노름: 0.0116, 정확도: 100.00%\n",
      "에포크 [37/50], 손실: 0.0017, 그래디언트 노름: 0.0106, 정확도: 100.00%\n",
      "에포크 [38/50], 손실: 0.0020, 그래디언트 노름: 0.0121, 정확도: 100.00%\n",
      "에포크 [39/50], 손실: 0.0015, 그래디언트 노름: 0.0112, 정확도: 100.00%\n",
      "에포크 [40/50], 손실: 0.0015, 그래디언트 노름: 0.0096, 정확도: 100.00%\n",
      "에포크 [41/50], 손실: 0.0015, 그래디언트 노름: 0.0091, 정확도: 100.00%\n",
      "에포크 [42/50], 손실: 0.0013, 그래디언트 노름: 0.0081, 정확도: 100.00%\n",
      "에포크 [43/50], 손실: 0.0013, 그래디언트 노름: 0.0097, 정확도: 100.00%\n",
      "에포크 [44/50], 손실: 0.0011, 그래디언트 노름: 0.0073, 정확도: 100.00%\n",
      "에포크 [45/50], 손실: 0.0012, 그래디언트 노름: 0.0075, 정확도: 100.00%\n",
      "에포크 [46/50], 손실: 0.0010, 그래디언트 노름: 0.0068, 정확도: 100.00%\n",
      "에포크 [47/50], 손실: 0.0010, 그래디언트 노름: 0.0067, 정확도: 100.00%\n",
      "에포크 [48/50], 손실: 0.0009, 그래디언트 노름: 0.0060, 정확도: 100.00%\n",
      "에포크 [49/50], 손실: 0.0009, 그래디언트 노름: 0.0060, 정확도: 100.00%\n",
      "에포크 [50/50], 손실: 0.0009, 그래디언트 노름: 0.0056, 정확도: 100.00%\n",
      "학습 완료!\n"
     ]
    },
    {
     "data": {
      "image/png": "[encoded data removed]",
      "text/plain": [
       "<Figure size 1200x500 with 2 Axes>"
      ]
     },
     "metadata": {},
     "output_type": "display_data"
    },
    {
     "name": "stdout",
     "output_type": "stream",
     "text": [
      "최종 테스트 정확도: 100.00%\n",
      "\n",
      "행동 클래스:\n",
      "0: 허리를 아치로 세움\n",
      "1: 허리를 아치로 세우는 동작\n"
     ]
    }
   ],
   "source": [
    "import os\n",
    "import json\n",
    "import torch\n",
    "import torch.nn as nn\n",
    "import torch.optim as optim\n",
    "from torch.utils.data import DataLoader, TensorDataset\n",
    "from sklearn.model_selection import train_test_split\n",
    "import numpy as np\n",
    "import matplotlib.pyplot as plt\n",
    "import matplotlib.font_manager as fm\n",
    "\n",
    "# 한글 폰트 설정\n",
    "font_path = r'C:\\Windows\\Fonts\\malgun.ttf'  # 맑은 고딕 폰트 경로\n",
    "font_prop = fm.FontProperties(fname=font_path)\n",
    "plt.rcParams['font.family'] = font_prop.get_name()\n",
    "\n",
    "def load_json_files(folder_path):\n",
    "    data = []\n",
    "    labels = []\n",
    "    metadata = []\n",
    "    for filename in os.listdir(folder_path):\n",
    "        if filename.endswith('.json'):\n",
    "            with open(os.path.join(folder_path, filename), 'r', encoding='utf-8') as f:\n",
    "                json_data = json.load(f)\n",
    "                sequence = []\n",
    "                for annotation in json_data['annotations']:\n",
    "                    keypoints = extract_keypoints(annotation)\n",
    "                    sequence.append(keypoints)\n",
    "                data.append(sequence)\n",
    "                labels.append(json_data['metadata']['inspect']['action'])\n",
    "                metadata.append({\n",
    "                    'painDisease': json_data['metadata']['inspect']['painDisease'],\n",
    "                    'abnormalAction': json_data['metadata']['inspect']['abnormalAction'],\n",
    "                    'emotion': json_data['metadata']['inspect']['emotion']\n",
    "                })\n",
    "    return data, labels, metadata\n",
    "\n",
    "def extract_keypoints(annotation):\n",
    "    keypoints = []\n",
    "    for i in range(1, 16):\n",
    "        kp = annotation['keypoints'].get(str(i))\n",
    "        if kp:\n",
    "            keypoints.extend([kp['x'], kp['y']])\n",
    "        else:\n",
    "            keypoints.extend([0, 0])\n",
    "    return keypoints\n",
    "\n",
    "def pad_sequences(sequences, max_length):\n",
    "    padded_sequences = []\n",
    "    for seq in sequences:\n",
    "        if len(seq) > max_length:\n",
    "            padded_sequences.append(seq[:max_length])\n",
    "        else:\n",
    "            padded_sequences.append(seq + [seq[-1]] * (max_length - len(seq)))\n",
    "    return padded_sequences\n",
    "\n",
    "class LSTMModel(nn.Module):\n",
    "    def __init__(self, input_size, hidden_size, num_layers, num_classes):\n",
    "        super(LSTMModel, self).__init__()\n",
    "        self.hidden_size = hidden_size\n",
    "        self.num_layers = num_layers\n",
    "        self.lstm = nn.LSTM(input_size, hidden_size, num_layers, batch_first=True)\n",
    "        self.fc = nn.Linear(hidden_size, num_classes)\n",
    "    \n",
    "    def forward(self, x):\n",
    "        h0 = torch.zeros(self.num_layers, x.size(0), self.hidden_size).to(x.device)\n",
    "        c0 = torch.zeros(self.num_layers, x.size(0), self.hidden_size).to(x.device)\n",
    "        out, _ = self.lstm(x, (h0, c0))\n",
    "        out = self.fc(out[:, -1, :])\n",
    "        return out\n",
    "\n",
    "# 데이터 로드 및 전처리\n",
    "folder_path = r'E:\\LSTN_test\\data\\ARCH'\n",
    "X, y, metadata = load_json_files(folder_path)\n",
    "\n",
    "# 시퀀스 패딩\n",
    "max_length = max(len(seq) for seq in X)\n",
    "X_padded = pad_sequences(X, max_length)\n",
    "\n",
    "# 레이블 인코딩\n",
    "unique_actions = list(set(y))\n",
    "action_to_index = {action: index for index, action in enumerate(unique_actions)}\n",
    "y_encoded = [action_to_index[action] for action in y]\n",
    "\n",
    "# 데이터 분할\n",
    "X_train, X_test, y_train, y_test, metadata_train, metadata_test = train_test_split(\n",
    "    X_padded, y_encoded, metadata, test_size=0.2, random_state=42)\n",
    "\n",
    "# PyTorch 텐서로 변환\n",
    "X_train = torch.FloatTensor(X_train)\n",
    "X_test = torch.FloatTensor(X_test)\n",
    "y_train = torch.LongTensor(y_train)\n",
    "y_test = torch.LongTensor(y_test)\n",
    "\n",
    "# 데이터로더 생성\n",
    "train_dataset = TensorDataset(X_train, y_train)\n",
    "test_dataset = TensorDataset(X_test, y_test)\n",
    "train_loader = DataLoader(train_dataset, batch_size=32, shuffle=True)\n",
    "test_loader = DataLoader(test_dataset, batch_size=32, shuffle=False)\n",
    "\n",
    "# 모델 초기화\n",
    "input_size = 30  # 15개의 키포인트, 각각 x와 y 좌표\n",
    "hidden_size = 64\n",
    "num_layers = 2\n",
    "num_classes = len(unique_actions)\n",
    "\n",
    "model = LSTMModel(input_size, hidden_size, num_layers, num_classes)\n",
    "criterion = nn.CrossEntropyLoss()\n",
    "optimizer = optim.Adam(model.parameters())\n",
    "\n",
    "# 학습\n",
    "num_epochs = 50\n",
    "device = torch.device(\"cuda\" if torch.cuda.is_available() else \"cpu\")\n",
    "model.to(device)\n",
    "\n",
    "losses = []\n",
    "grad_norms = []\n",
    "\n",
    "for epoch in range(num_epochs):\n",
    "    model.train()\n",
    "    epoch_loss = 0\n",
    "    epoch_grad_norm = 0\n",
    "    batch_count = 0\n",
    "    for batch_X, batch_y in train_loader:\n",
    "        batch_X, batch_y = batch_X.to(device), batch_y.to(device)\n",
    "        optimizer.zero_grad()\n",
    "        outputs = model(batch_X)\n",
    "        loss = criterion(outputs, batch_y)\n",
    "        loss.backward()\n",
    "        \n",
    "        # 그래디언트 노름 계산\n",
    "        total_norm = 0\n",
    "        for p in model.parameters():\n",
    "            if p.grad is not None:\n",
    "                param_norm = p.grad.data.norm(2)\n",
    "                total_norm += param_norm.item() ** 2\n",
    "        total_norm = total_norm ** 0.5\n",
    "        \n",
    "        optimizer.step()\n",
    "        \n",
    "        epoch_loss += loss.item()\n",
    "        epoch_grad_norm += total_norm\n",
    "        batch_count += 1\n",
    "    \n",
    "    avg_loss = epoch_loss / batch_count\n",
    "    avg_grad_norm = epoch_grad_norm / batch_count\n",
    "    losses.append(avg_loss)\n",
    "    grad_norms.append(avg_grad_norm)\n",
    "    \n",
    "    # 검증\n",
    "    model.eval()\n",
    "    with torch.no_grad():\n",
    "        correct = 0\n",
    "        total = 0\n",
    "        for batch_X, batch_y in test_loader:\n",
    "            batch_X, batch_y = batch_X.to(device), batch_y.to(device)\n",
    "            outputs = model(batch_X)\n",
    "            _, predicted = torch.max(outputs.data, 1)\n",
    "            total += batch_y.size(0)\n",
    "            correct += (predicted == batch_y).sum().item()\n",
    "        \n",
    "        accuracy = 100 * correct / total\n",
    "        print(f'에포크 [{epoch+1}/{num_epochs}], 손실: {avg_loss:.4f}, 그래디언트 노름: {avg_grad_norm:.4f}, 정확도: {accuracy:.2f}%')\n",
    "\n",
    "print(\"학습 완료!\")\n",
    "\n",
    "# 손실과 그래디언트 노름 그래프 그리기\n",
    "plt.figure(figsize=(12, 5))\n",
    "plt.subplot(1, 2, 1)\n",
    "plt.plot(losses)\n",
    "plt.title('학습 손실', fontproperties=font_prop)\n",
    "plt.xlabel('에포크', fontproperties=font_prop)\n",
    "plt.ylabel('손실', fontproperties=font_prop)\n",
    "\n",
    "plt.subplot(1, 2, 2)\n",
    "plt.plot(grad_norms)\n",
    "plt.title('그래디언트 노름', fontproperties=font_prop)\n",
    "plt.xlabel('에포크', fontproperties=font_prop)\n",
    "plt.ylabel('그래디언트 노름', fontproperties=font_prop)\n",
    "\n",
    "plt.tight_layout()\n",
    "plt.show()\n",
    "\n",
    "# 예측 함수\n",
    "def predict_with_metadata(model, input_sequence, unique_actions, metadata):\n",
    "    model.eval()\n",
    "    with torch.no_grad():\n",
    "        output = model(input_sequence)\n",
    "        predicted_class = torch.argmax(output, dim=1).item()\n",
    "        predicted_action = unique_actions[predicted_class]\n",
    "        related_metadata = next((m for a, m in zip(unique_actions, metadata) if a == predicted_action), None)\n",
    "    return predicted_action, related_metadata\n",
    "\n",
    "# 최종 테스트 및 메타데이터 출력\n",
    "model.eval()\n",
    "correct = 0\n",
    "total = 0\n",
    "for i, (batch_X, batch_y) in enumerate(test_loader):\n",
    "    batch_X, batch_y = batch_X.to(device), batch_y.to(device)\n",
    "    predicted_action, related_metadata = predict_with_metadata(model, batch_X, unique_actions, metadata_test[i*32:(i+1)*32])\n",
    "    outputs = model(batch_X)\n",
    "    _, predicted = torch.max(outputs.data, 1)\n",
    "    total += batch_y.size(0)\n",
    "    correct += (predicted == batch_y).sum().item()\n",
    "    \n",
    "    if i == 0:  # 첫 번째 배치의 첫 번째 샘플에 대해 출력\n",
    "        print(\"\\n예측 예시:\")\n",
    "        print(f\"예측된 행동: {predicted_action}\")\n",
    "        print(\"관련 메타데이터:\")\n",
    "        print(f\"  통증/질병 여부: {related_metadata['painDisease']}\")\n",
    "        print(f\"  비정상 행동 여부: {related_metadata['abnormalAction']}\")\n",
    "        print(f\"  감정: {related_metadata['emotion']}\")\n",
    "\n",
    "accuracy = 100 * correct / total\n",
    "print(f'\\n최종 테스트 정확도: {accuracy:.2f}%')\n",
    "\n",
    "# 행동 클래스 출력\n",
    "print(\"\\n행동 클래스:\")\n",
    "for i, action in enumerate(unique_actions):\n",
    "    print(f\"{i}: {action}\")\n",
    "\n",
    "# 모델 저장\n",
    "torch.save({\n",
    "    'model_state_dict': model.state_dict(),\n",
    "    'input_size': input_size,\n",
    "    'hidden_size': hidden_size,\n",
    "    'num_layers': num_layers,\n",
    "    'num_classes': num_classes,\n",
    "    'max_length': max_length,\n",
    "    'unique_actions': unique_actions\n",
    "}, 'lstm_model.pt')\n",
    "\n",
    "print(\"\\n모델이 'lstm_model.pt'로 저장되었습니다.\")"
   ]
  },
  {
   "cell_type": "code",
   "execution_count": 11,
   "metadata": {},
   "outputs": [
    {
     "name": "stderr",
     "output_type": "stream",
     "text": [
      "Epochs:   3%|▎         | 1/30 [01:02<30:14, 62.56s/it]"
     ]
    },
    {
     "name": "stdout",
     "output_type": "stream",
     "text": [
      "에포크 [1/30], 손실: 2.8956, 그래디언트 노름: 3.8933, 정확도: 15.96%\n"
     ]
    },
    {
     "name": "stderr",
     "output_type": "stream",
     "text": [
      "Epochs:   7%|▋         | 2/30 [02:00<27:57, 59.91s/it]"
     ]
    },
    {
     "name": "stdout",
     "output_type": "stream",
     "text": [
      "에포크 [2/30], 손실: 2.8248, 그래디언트 노름: 6.7464, 정확도: 16.52%\n"
     ]
    },
    {
     "name": "stderr",
     "output_type": "stream",
     "text": [
      "Epochs:  10%|█         | 3/30 [02:58<26:29, 58.86s/it]"
     ]
    },
    {
     "name": "stdout",
     "output_type": "stream",
     "text": [
      "에포크 [3/30], 손실: 2.7956, 그래디언트 노름: 6.7552, 정확도: 16.28%\n"
     ]
    },
    {
     "name": "stderr",
     "output_type": "stream",
     "text": [
      "Epochs:  13%|█▎        | 4/30 [03:55<25:14, 58.25s/it]"
     ]
    },
    {
     "name": "stdout",
     "output_type": "stream",
     "text": [
      "에포크 [4/30], 손실: 2.7597, 그래디언트 노름: 8.2051, 정확도: 21.65%\n"
     ]
    },
    {
     "name": "stderr",
     "output_type": "stream",
     "text": [
      "Epochs:  17%|█▋        | 5/30 [04:53<24:09, 57.99s/it]"
     ]
    },
    {
     "name": "stdout",
     "output_type": "stream",
     "text": [
      "에포크 [5/30], 손실: 2.7322, 그래디언트 노름: 10.0655, 정확도: 21.23%\n"
     ]
    },
    {
     "name": "stderr",
     "output_type": "stream",
     "text": [
      "Epochs:  20%|██        | 6/30 [05:54<23:37, 59.05s/it]"
     ]
    },
    {
     "name": "stdout",
     "output_type": "stream",
     "text": [
      "에포크 [6/30], 손실: 2.7003, 그래디언트 노름: 10.1904, 정확도: 22.13%\n"
     ]
    },
    {
     "name": "stderr",
     "output_type": "stream",
     "text": [
      "Epochs:  23%|██▎       | 7/30 [07:05<24:07, 62.94s/it]"
     ]
    },
    {
     "name": "stdout",
     "output_type": "stream",
     "text": [
      "에포크 [7/30], 손실: 2.6900, 그래디언트 노름: 10.1398, 정확도: 20.95%\n"
     ]
    },
    {
     "name": "stderr",
     "output_type": "stream",
     "text": [
      "Epochs:  27%|██▋       | 8/30 [08:14<23:51, 65.06s/it]"
     ]
    },
    {
     "name": "stdout",
     "output_type": "stream",
     "text": [
      "에포크 [8/30], 손실: 2.6605, 그래디언트 노름: 9.9680, 정확도: 23.12%\n"
     ]
    },
    {
     "name": "stderr",
     "output_type": "stream",
     "text": [
      "Epochs:  30%|███       | 9/30 [09:18<22:37, 64.63s/it]"
     ]
    },
    {
     "name": "stdout",
     "output_type": "stream",
     "text": [
      "에포크 [9/30], 손실: 2.6263, 그래디언트 노름: 11.5119, 정확도: 23.11%\n"
     ]
    },
    {
     "name": "stderr",
     "output_type": "stream",
     "text": [
      "Epochs:  33%|███▎      | 10/30 [10:20<21:14, 63.73s/it]"
     ]
    },
    {
     "name": "stdout",
     "output_type": "stream",
     "text": [
      "에포크 [10/30], 손실: 2.6109, 그래디언트 노름: 11.3192, 정확도: 23.70%\n"
     ]
    },
    {
     "name": "stderr",
     "output_type": "stream",
     "text": [
      "Epochs:  37%|███▋      | 11/30 [11:20<19:50, 62.64s/it]"
     ]
    },
    {
     "name": "stdout",
     "output_type": "stream",
     "text": [
      "에포크 [11/30], 손실: 2.5987, 그래디언트 노름: 12.2044, 정확도: 22.96%\n"
     ]
    },
    {
     "name": "stderr",
     "output_type": "stream",
     "text": [
      "Epochs:  40%|████      | 12/30 [12:23<18:52, 62.90s/it]"
     ]
    },
    {
     "name": "stdout",
     "output_type": "stream",
     "text": [
      "에포크 [12/30], 손실: 2.5762, 그래디언트 노름: 11.8350, 정확도: 23.54%\n"
     ]
    },
    {
     "name": "stderr",
     "output_type": "stream",
     "text": [
      "Epochs:  43%|████▎     | 13/30 [13:24<17:40, 62.37s/it]"
     ]
    },
    {
     "name": "stdout",
     "output_type": "stream",
     "text": [
      "에포크 [13/30], 손실: 2.5864, 그래디언트 노름: 10.8958, 정확도: 21.67%\n"
     ]
    },
    {
     "name": "stderr",
     "output_type": "stream",
     "text": [
      "Epochs:  47%|████▋     | 14/30 [14:26<16:31, 61.99s/it]"
     ]
    },
    {
     "name": "stdout",
     "output_type": "stream",
     "text": [
      "에포크 [14/30], 손실: 2.5697, 그래디언트 노름: 11.3361, 정확도: 24.66%\n"
     ]
    },
    {
     "name": "stderr",
     "output_type": "stream",
     "text": [
      "Epochs:  50%|█████     | 15/30 [15:27<15:25, 61.68s/it]"
     ]
    },
    {
     "name": "stdout",
     "output_type": "stream",
     "text": [
      "에포크 [15/30], 손실: 2.5250, 그래디언트 노름: 14.1631, 정확도: 25.32%\n"
     ]
    },
    {
     "name": "stderr",
     "output_type": "stream",
     "text": [
      "Epochs:  53%|█████▎    | 16/30 [16:31<14:35, 62.51s/it]"
     ]
    },
    {
     "name": "stdout",
     "output_type": "stream",
     "text": [
      "에포크 [16/30], 손실: 2.5320, 그래디언트 노름: 12.1453, 정확도: 25.64%\n"
     ]
    },
    {
     "name": "stderr",
     "output_type": "stream",
     "text": [
      "Epochs:  57%|█████▋    | 17/30 [17:36<13:43, 63.35s/it]"
     ]
    },
    {
     "name": "stdout",
     "output_type": "stream",
     "text": [
      "에포크 [17/30], 손실: 2.5346, 그래디언트 노름: 12.3297, 정확도: 25.73%\n"
     ]
    },
    {
     "name": "stderr",
     "output_type": "stream",
     "text": [
      "Epochs:  60%|██████    | 18/30 [18:42<12:49, 64.14s/it]"
     ]
    },
    {
     "name": "stdout",
     "output_type": "stream",
     "text": [
      "에포크 [18/30], 손실: 2.5002, 그래디언트 노름: 12.7816, 정확도: 25.82%\n"
     ]
    },
    {
     "name": "stderr",
     "output_type": "stream",
     "text": [
      "Epochs:  63%|██████▎   | 19/30 [19:45<11:42, 63.86s/it]"
     ]
    },
    {
     "name": "stdout",
     "output_type": "stream",
     "text": [
      "에포크 [19/30], 손실: 2.4723, 그래디언트 노름: 13.4435, 정확도: 27.68%\n"
     ]
    },
    {
     "name": "stderr",
     "output_type": "stream",
     "text": [
      "Epochs:  67%|██████▋   | 20/30 [20:50<10:40, 64.08s/it]"
     ]
    },
    {
     "name": "stdout",
     "output_type": "stream",
     "text": [
      "에포크 [20/30], 손실: 2.4566, 그래디언트 노름: 13.4106, 정확도: 27.63%\n"
     ]
    },
    {
     "name": "stderr",
     "output_type": "stream",
     "text": [
      "Epochs:  70%|███████   | 21/30 [21:55<09:39, 64.36s/it]"
     ]
    },
    {
     "name": "stdout",
     "output_type": "stream",
     "text": [
      "에포크 [21/30], 손실: 2.4563, 그래디언트 노름: 13.0004, 정확도: 26.77%\n"
     ]
    },
    {
     "name": "stderr",
     "output_type": "stream",
     "text": [
      "Epochs:  73%|███████▎  | 22/30 [23:02<08:41, 65.21s/it]"
     ]
    },
    {
     "name": "stdout",
     "output_type": "stream",
     "text": [
      "에포크 [22/30], 손실: 2.4511, 그래디언트 노름: 13.9994, 정확도: 27.24%\n"
     ]
    },
    {
     "name": "stderr",
     "output_type": "stream",
     "text": [
      "Epochs:  77%|███████▋  | 23/30 [24:09<07:39, 65.60s/it]"
     ]
    },
    {
     "name": "stdout",
     "output_type": "stream",
     "text": [
      "에포크 [23/30], 손실: 2.4695, 그래디언트 노름: 12.5201, 정확도: 27.52%\n"
     ]
    },
    {
     "name": "stderr",
     "output_type": "stream",
     "text": [
      "Epochs:  80%|████████  | 24/30 [25:16<06:36, 66.02s/it]"
     ]
    },
    {
     "name": "stdout",
     "output_type": "stream",
     "text": [
      "에포크 [24/30], 손실: 2.4548, 그래디언트 노름: 13.2105, 정확도: 25.91%\n"
     ]
    },
    {
     "name": "stderr",
     "output_type": "stream",
     "text": [
      "Epochs:  83%|████████▎ | 25/30 [26:26<05:35, 67.14s/it]"
     ]
    },
    {
     "name": "stdout",
     "output_type": "stream",
     "text": [
      "에포크 [25/30], 손실: 2.4496, 그래디언트 노름: 12.9332, 정확도: 26.12%\n"
     ]
    },
    {
     "name": "stderr",
     "output_type": "stream",
     "text": [
      "Epochs:  87%|████████▋ | 26/30 [27:36<04:33, 68.29s/it]"
     ]
    },
    {
     "name": "stdout",
     "output_type": "stream",
     "text": [
      "에포크 [26/30], 손실: 2.4398, 그래디언트 노름: 13.8775, 정확도: 26.58%\n"
     ]
    },
    {
     "name": "stderr",
     "output_type": "stream",
     "text": [
      "Epochs:  90%|█████████ | 27/30 [28:49<03:28, 69.46s/it]"
     ]
    },
    {
     "name": "stdout",
     "output_type": "stream",
     "text": [
      "에포크 [27/30], 손실: 2.4557, 그래디언트 노름: 16.4600, 정확도: 27.69%\n"
     ]
    },
    {
     "name": "stderr",
     "output_type": "stream",
     "text": [
      "Epochs:  93%|█████████▎| 28/30 [29:55<02:17, 68.58s/it]"
     ]
    },
    {
     "name": "stdout",
     "output_type": "stream",
     "text": [
      "에포크 [28/30], 손실: 2.4575, 그래디언트 노름: 14.0747, 정확도: 27.44%\n"
     ]
    },
    {
     "name": "stderr",
     "output_type": "stream",
     "text": [
      "Epochs:  97%|█████████▋| 29/30 [30:59<01:07, 67.28s/it]"
     ]
    },
    {
     "name": "stdout",
     "output_type": "stream",
     "text": [
      "에포크 [29/30], 손실: 2.4256, 그래디언트 노름: 12.3828, 정확도: 27.67%\n"
     ]
    },
    {
     "name": "stderr",
     "output_type": "stream",
     "text": [
      "Epochs: 100%|██████████| 30/30 [32:07<00:00, 64.24s/it]"
     ]
    },
    {
     "name": "stdout",
     "output_type": "stream",
     "text": [
      "에포크 [30/30], 손실: 2.4346, 그래디언트 노름: 12.1160, 정확도: 26.79%\n",
      "학습 완료\n"
     ]
    },
    {
     "name": "stderr",
     "output_type": "stream",
     "text": [
      "\n"
     ]
    },
    {
     "data": {
      "image/png": "[encoded data removed]",
      "text/plain": [
       "<Figure size 1200x500 with 2 Axes>"
      ]
     },
     "metadata": {},
     "output_type": "display_data"
    },
    {
     "name": "stdout",
     "output_type": "stream",
     "text": [
      "\n",
      "예측 예시:\n",
      "예측된 행동: DOG_WALKRUN\n",
      "관련 메타데이터:\n",
      "  동물: DOG\n",
      "  행동: WALKRUN\n",
      "  통증/질병 여부: N\n",
      "  비정상 행동 여부: N\n",
      "  감정: 편안/안정\n",
      "\n",
      "최종 테스트 정확도: 26.79%\n",
      "\n",
      "행동 클래스:\n",
      "0: CAT_ARCH\n",
      "1: CAT_ARMSTRETCH\n",
      "2: CAT_FOOTPUSH\n",
      "3: CAT_GETDOWN\n",
      "4: CAT_GROOMING\n",
      "5: CAT_HEADING\n",
      "6: CAT_LAYDOWN\n",
      "7: CAT_LYING\n",
      "8: CAT_ROLL\n",
      "9: CAT_SITDOWN\n",
      "10: CAT_TAILING\n",
      "11: CAT_WALKRUN\n",
      "12: DOG_BODYLOWER\n",
      "13: DOG_BODYSCRATCH\n",
      "14: DOG_BODYSHAKE\n",
      "15: DOG_FEETUP\n",
      "16: DOG_FOOTUP\n",
      "17: DOG_HEADING\n",
      "18: DOG_LYING\n",
      "19: DOG_MOUNTING\n",
      "20: DOG_SIT\n",
      "21: DOG_TAILING\n",
      "22: DOG_TAILLOW\n",
      "23: DOG_TURN\n",
      "24: DOG_WALKRUN\n",
      "\n",
      "모델이 'lstm_model.pt'로 저장되었습니다.\n"
     ]
    }
   ],
   "source": [
    "import os\n",
    "import json\n",
    "import torch\n",
    "import torch.nn as nn\n",
    "import torch.optim as optim\n",
    "from torch.utils.data import DataLoader, TensorDataset\n",
    "from sklearn.model_selection import train_test_split\n",
    "import numpy as np\n",
    "import matplotlib.pyplot as plt\n",
    "import matplotlib.font_manager as fm\n",
    "from tqdm import tqdm\n",
    "\n",
    "# 한글 폰트 설정\n",
    "font_path = r'C:\\Windows\\Fonts\\malgun.ttf'  # 맑은 고딕 폰트 경로\n",
    "font_prop = fm.FontProperties(fname=font_path)\n",
    "plt.rcParams['font.family'] = font_prop.get_name()\n",
    "\n",
    "# 클래스 정의\n",
    "CLASSES = {\n",
    "    'CAT_ARCH': 0, 'CAT_ARMSTRETCH': 1, 'CAT_FOOTPUSH': 2, 'CAT_GETDOWN': 3, 'CAT_GROOMING': 4,\n",
    "    'CAT_HEADING': 5, 'CAT_LAYDOWN': 6, 'CAT_LYING': 7, 'CAT_ROLL': 8, 'CAT_SITDOWN': 9,\n",
    "    'CAT_TAILING': 10, 'CAT_WALKRUN': 11,\n",
    "    'DOG_BODYLOWER': 12, 'DOG_BODYSCRATCH': 13, 'DOG_BODYSHAKE': 14, 'DOG_FEETUP': 15, 'DOG_FOOTUP': 16,\n",
    "    'DOG_HEADING': 17, 'DOG_LYING': 18, 'DOG_MOUNTING': 19, 'DOG_SIT': 20, 'DOG_TAILING': 21,\n",
    "    'DOG_TAILLOW': 22, 'DOG_TURN': 23, 'DOG_WALKRUN': 24\n",
    "}\n",
    "\n",
    "def load_json_files(base_folder):\n",
    "    data = []\n",
    "    labels = []\n",
    "    metadata = []\n",
    "    for animal in ['CAT', 'DOG']:\n",
    "        animal_folder = os.path.join(base_folder, animal)\n",
    "        for action_folder in os.listdir(animal_folder):\n",
    "            action_path = os.path.join(animal_folder, action_folder)\n",
    "            if os.path.isdir(action_path):\n",
    "                class_name = f\"{animal}_{action_folder.upper()}\"\n",
    "                if class_name in CLASSES:\n",
    "                    for filename in os.listdir(action_path):\n",
    "                        if filename.endswith('.json'):\n",
    "                            with open(os.path.join(action_path, filename), 'r', encoding='utf-8') as f:\n",
    "                                json_data = json.load(f)\n",
    "                                sequence = []\n",
    "                                for annotation in json_data['annotations']:\n",
    "                                    keypoints = extract_keypoints(annotation)\n",
    "                                    sequence.append(keypoints)\n",
    "                                data.append(sequence)\n",
    "                                labels.append(CLASSES[class_name])\n",
    "                                metadata.append({\n",
    "                                    'animal': animal,\n",
    "                                    'action': action_folder,\n",
    "                                    'painDisease': json_data['metadata']['inspect']['painDisease'],\n",
    "                                    'abnormalAction': json_data['metadata']['inspect']['abnormalAction'],\n",
    "                                    'emotion': json_data['metadata']['inspect']['emotion']\n",
    "                                })\n",
    "    return data, labels, metadata\n",
    "\n",
    "def extract_keypoints(annotation):\n",
    "    keypoints = []\n",
    "    for i in range(1, 16):\n",
    "        kp = annotation['keypoints'].get(str(i))\n",
    "        if kp:\n",
    "            keypoints.extend([kp['x'], kp['y']])\n",
    "        else:\n",
    "            keypoints.extend([0, 0])\n",
    "    return keypoints\n",
    "\n",
    "def pad_sequences(sequences, max_length):\n",
    "    padded_sequences = []\n",
    "    for seq in sequences:\n",
    "        if len(seq) > max_length:\n",
    "            padded_sequences.append(seq[:max_length])\n",
    "        else:\n",
    "            padded_sequences.append(seq + [seq[-1]] * (max_length - len(seq)))\n",
    "    return padded_sequences\n",
    "\n",
    "class LSTMModel(nn.Module):\n",
    "    def __init__(self, input_size, hidden_size, num_layers, num_classes):\n",
    "        super(LSTMModel, self).__init__()\n",
    "        self.hidden_size = hidden_size\n",
    "        self.num_layers = num_layers\n",
    "        self.lstm = nn.LSTM(input_size, hidden_size, num_layers, batch_first=True)\n",
    "        self.fc = nn.Linear(hidden_size, num_classes)\n",
    "    \n",
    "    def forward(self, x):\n",
    "        h0 = torch.zeros(self.num_layers, x.size(0), self.hidden_size).to(x.device)\n",
    "        c0 = torch.zeros(self.num_layers, x.size(0), self.hidden_size).to(x.device)\n",
    "        out, _ = self.lstm(x, (h0, c0))\n",
    "        out = self.fc(out[:, -1, :])\n",
    "        return out\n",
    "\n",
    "# 데이터 로드 및 전처리\n",
    "base_folder = r'E:\\LSTN_test\\json\\Training'\n",
    "X, y, metadata = load_json_files(base_folder)\n",
    "\n",
    "# 시퀀스 패딩\n",
    "max_length = max(len(seq) for seq in X)\n",
    "X_padded = pad_sequences(X, max_length)\n",
    "\n",
    "# 데이터 분할\n",
    "X_train, X_test, y_train, y_test, metadata_train, metadata_test = train_test_split(\n",
    "    X_padded, y, metadata, test_size=0.2, random_state=42)\n",
    "\n",
    "# PyTorch 텐서로 변환\n",
    "X_train = torch.FloatTensor(X_train)\n",
    "X_test = torch.FloatTensor(X_test)\n",
    "y_train = torch.LongTensor(y_train)\n",
    "y_test = torch.LongTensor(y_test)\n",
    "\n",
    "# 데이터로더 생성\n",
    "train_dataset = TensorDataset(X_train, y_train)\n",
    "test_dataset = TensorDataset(X_test, y_test)\n",
    "train_loader = DataLoader(train_dataset, batch_size=32, shuffle=True)\n",
    "test_loader = DataLoader(test_dataset, batch_size=32, shuffle=False)\n",
    "\n",
    "# 모델 초기화\n",
    "input_size = 30  # 15개의 키포인트, 각각 x와 y 좌표\n",
    "hidden_size = 64\n",
    "num_layers = 2\n",
    "num_classes = len(CLASSES)\n",
    "\n",
    "model = LSTMModel(input_size, hidden_size, num_layers, num_classes)\n",
    "criterion = nn.CrossEntropyLoss()\n",
    "optimizer = optim.Adam(model.parameters())\n",
    "\n",
    "# 학습\n",
    "num_epochs = 30\n",
    "device = torch.device(\"cuda\" if torch.cuda.is_available() else \"cpu\")\n",
    "model.to(device)\n",
    "\n",
    "losses = []\n",
    "grad_norms = []\n",
    "\n",
    "for epoch in tqdm(range(num_epochs), desc=\"Epochs\"):\n",
    "    model.train()\n",
    "    epoch_loss = 0\n",
    "    epoch_grad_norm = 0\n",
    "    batch_count = 0\n",
    "    \n",
    "    progress_bar = tqdm(train_loader, desc=f\"Epoch {epoch+1}/{num_epochs}\", leave=False)\n",
    "    for batch_X, batch_y in progress_bar:\n",
    "        batch_X, batch_y = batch_X.to(device), batch_y.to(device)\n",
    "        optimizer.zero_grad()\n",
    "        outputs = model(batch_X)\n",
    "        loss = criterion(outputs, batch_y)\n",
    "        loss.backward()\n",
    "        \n",
    "        # 그래디언트 노름 계산\n",
    "        total_norm = 0\n",
    "        for p in model.parameters():\n",
    "            if p.grad is not None:\n",
    "                param_norm = p.grad.data.norm(2)\n",
    "                total_norm += param_norm.item() ** 2\n",
    "        total_norm = total_norm ** 0.5\n",
    "        \n",
    "        optimizer.step()\n",
    "        \n",
    "        epoch_loss += loss.item()\n",
    "        epoch_grad_norm += total_norm\n",
    "        batch_count += 1\n",
    "        \n",
    "        progress_bar.set_postfix({'loss': f'{loss.item():.4f}'})\n",
    "    \n",
    "    avg_loss = epoch_loss / batch_count\n",
    "    avg_grad_norm = epoch_grad_norm / batch_count\n",
    "    losses.append(avg_loss)\n",
    "    grad_norms.append(avg_grad_norm)\n",
    "    \n",
    "    # 검증\n",
    "    model.eval()\n",
    "    with torch.no_grad():\n",
    "        correct = 0\n",
    "        total = 0\n",
    "        for batch_X, batch_y in test_loader:\n",
    "            batch_X, batch_y = batch_X.to(device), batch_y.to(device)\n",
    "            outputs = model(batch_X)\n",
    "            _, predicted = torch.max(outputs.data, 1)\n",
    "            total += batch_y.size(0)\n",
    "            correct += (predicted == batch_y).sum().item()\n",
    "        \n",
    "        accuracy = 100 * correct / total\n",
    "        print(f'에포크 [{epoch+1}/{num_epochs}], 손실: {avg_loss:.4f}, 그래디언트 노름: {avg_grad_norm:.4f}, 정확도: {accuracy:.2f}%')\n",
    "\n",
    "print(\"학습 완료\")\n",
    "\n",
    "# 손실과 그래디언트 노름 그래프 그리기\n",
    "plt.figure(figsize=(12, 5))\n",
    "plt.subplot(1, 2, 1)\n",
    "plt.plot(losses)\n",
    "plt.title('학습 손실', fontproperties=font_prop)\n",
    "plt.xlabel('에포크', fontproperties=font_prop)\n",
    "plt.ylabel('손실', fontproperties=font_prop)\n",
    "\n",
    "plt.subplot(1, 2, 2)\n",
    "plt.plot(grad_norms)\n",
    "plt.title('그래디언트 노름', fontproperties=font_prop)\n",
    "plt.xlabel('에포크', fontproperties=font_prop)\n",
    "plt.ylabel('그래디언트 노름', fontproperties=font_prop)\n",
    "\n",
    "plt.tight_layout()\n",
    "plt.show()\n",
    "\n",
    "# 예측 함수\n",
    "def predict_with_metadata(model, input_sequence, metadata):\n",
    "    model.eval()\n",
    "    with torch.no_grad():\n",
    "        output = model(input_sequence)\n",
    "        predicted_class = torch.argmax(output, dim=1).item()\n",
    "        predicted_action = [k for k, v in CLASSES.items() if v == predicted_class][0]\n",
    "        related_metadata = metadata[predicted_class]\n",
    "    return predicted_action, related_metadata\n",
    "\n",
    "# 최종 테스트 및 메타데이터 출력\n",
    "model.eval()\n",
    "correct = 0\n",
    "total = 0\n",
    "for i, (batch_X, batch_y) in enumerate(test_loader):\n",
    "    batch_X, batch_y = batch_X.to(device), batch_y.to(device)\n",
    "    outputs = model(batch_X)\n",
    "    _, predicted = torch.max(outputs.data, 1)\n",
    "    total += batch_y.size(0)\n",
    "    correct += (predicted == batch_y).sum().item()\n",
    "    \n",
    "    if i == 0:  # 첫 번째 배치의 첫 번째 샘플에 대해 출력\n",
    "        predicted_action, related_metadata = predict_with_metadata(model, batch_X[0].unsqueeze(0), metadata_test)\n",
    "        print(\"\\n예측 예시:\")\n",
    "        print(f\"예측된 행동: {predicted_action}\")\n",
    "        print(\"관련 메타데이터:\")\n",
    "        print(f\"  동물: {related_metadata['animal']}\")\n",
    "        print(f\"  행동: {related_metadata['action']}\")\n",
    "        print(f\"  통증/질병 여부: {related_metadata['painDisease']}\")\n",
    "        print(f\"  비정상 행동 여부: {related_metadata['abnormalAction']}\")\n",
    "        print(f\"  감정: {related_metadata['emotion']}\")\n",
    "\n",
    "accuracy = 100 * correct / total\n",
    "print(f'\\n최종 테스트 정확도: {accuracy:.2f}%')\n",
    "\n",
    "# 행동 클래스 출력\n",
    "print(\"\\n행동 클래스:\")\n",
    "for action, class_id in CLASSES.items():\n",
    "    print(f\"{class_id}: {action}\")\n",
    "\n",
    "# 모델 저장\n",
    "torch.save({\n",
    "    'model_state_dict': model.state_dict(),\n",
    "    'input_size': input_size,\n",
    "    'hidden_size': hidden_size,\n",
    "    'num_layers': num_layers,\n",
    "    'num_classes': num_classes,\n",
    "    'max_length': max_length,\n",
    "    'classes': CLASSES\n",
    "}, 'lstm_model.pt')\n",
    "\n",
    "print(\"\\n모델이 'lstm_model.pt'로 저장되었습니다.\")"
   ]
  },
  {
   "cell_type": "code",
   "execution_count": 14,
   "metadata": {},
   "outputs": [
    {
     "name": "stderr",
     "output_type": "stream",
     "text": [
      "C:\\Users\\Administrator\\AppData\\Local\\Temp\\ipykernel_5052\\1841326735.py:83: FutureWarning: You are using `torch.load` with `weights_only=False` (the current default value), which uses the default pickle module implicitly. It is possible to construct malicious pickle data which will execute arbitrary code during unpickling (See https://github.com/pytorch/pytorch/blob/main/SECURITY.md#untrusted-models for more details). In a future release, the default value for `weights_only` will be flipped to `True`. This limits the functions that could be executed during unpickling. Arbitrary objects will no longer be allowed to be loaded via this mode unless they are explicitly allowlisted by the user via `torch.serialization.add_safe_globals`. We recommend you start setting `weights_only=True` for any use case where you don't have full control of the loaded file. Please open an issue on GitHub for any issues related to this experimental feature.\n",
      "  checkpoint = torch.load('lstm_model_cat_epoch_30.pt')\n",
      "Additional Epochs:   5%|▌         | 1/20 [01:12<22:52, 72.22s/it]"
     ]
    },
    {
     "name": "stdout",
     "output_type": "stream",
     "text": [
      "에포크 [31/50], 손실: 2.4108, 그래디언트 노름: 12.8478, 정확도: 26.14%\n"
     ]
    },
    {
     "name": "stderr",
     "output_type": "stream",
     "text": [
      "Additional Epochs:  10%|█         | 2/20 [02:20<20:58, 69.90s/it]"
     ]
    },
    {
     "name": "stdout",
     "output_type": "stream",
     "text": [
      "에포크 [32/50], 손실: 2.4147, 그래디언트 노름: 16.3689, 정확도: 27.81%\n"
     ]
    },
    {
     "name": "stderr",
     "output_type": "stream",
     "text": [
      "Additional Epochs:  15%|█▌        | 3/20 [03:37<20:41, 73.06s/it]"
     ]
    },
    {
     "name": "stdout",
     "output_type": "stream",
     "text": [
      "에포크 [33/50], 손실: 2.4274, 그래디언트 노름: 12.2864, 정확도: 27.12%\n"
     ]
    },
    {
     "name": "stderr",
     "output_type": "stream",
     "text": [
      "Additional Epochs:  20%|██        | 4/20 [04:44<18:53, 70.82s/it]"
     ]
    },
    {
     "name": "stdout",
     "output_type": "stream",
     "text": [
      "에포크 [34/50], 손실: 2.4178, 그래디언트 노름: 13.0233, 정확도: 28.30%\n"
     ]
    },
    {
     "name": "stderr",
     "output_type": "stream",
     "text": [
      "Additional Epochs:  25%|██▌       | 5/20 [05:47<16:59, 67.97s/it]"
     ]
    },
    {
     "name": "stdout",
     "output_type": "stream",
     "text": [
      "에포크 [35/50], 손실: 2.3910, 그래디언트 노름: 13.1784, 정확도: 28.88%\n"
     ]
    },
    {
     "name": "stderr",
     "output_type": "stream",
     "text": [
      "Additional Epochs:  30%|███       | 6/20 [06:50<15:28, 66.35s/it]"
     ]
    },
    {
     "name": "stdout",
     "output_type": "stream",
     "text": [
      "에포크 [36/50], 손실: 2.3764, 그래디언트 노름: 13.2837, 정확도: 27.91%\n"
     ]
    },
    {
     "name": "stderr",
     "output_type": "stream",
     "text": [
      "Additional Epochs:  35%|███▌      | 7/20 [07:55<14:16, 65.85s/it]"
     ]
    },
    {
     "name": "stdout",
     "output_type": "stream",
     "text": [
      "에포크 [37/50], 손실: 2.3906, 그래디언트 노름: 11.9612, 정확도: 27.04%\n"
     ]
    },
    {
     "name": "stderr",
     "output_type": "stream",
     "text": [
      "Additional Epochs:  40%|████      | 8/20 [09:09<13:39, 68.30s/it]"
     ]
    },
    {
     "name": "stdout",
     "output_type": "stream",
     "text": [
      "에포크 [38/50], 손실: 2.3829, 그래디언트 노름: 12.3298, 정확도: 27.19%\n"
     ]
    },
    {
     "name": "stderr",
     "output_type": "stream",
     "text": [
      "Additional Epochs:  45%|████▌     | 9/20 [10:40<13:49, 75.36s/it]"
     ]
    },
    {
     "name": "stdout",
     "output_type": "stream",
     "text": [
      "에포크 [39/50], 손실: 2.3961, 그래디언트 노름: 12.7500, 정확도: 28.84%\n"
     ]
    },
    {
     "name": "stderr",
     "output_type": "stream",
     "text": [
      "Additional Epochs:  50%|█████     | 10/20 [12:00<12:50, 77.01s/it]"
     ]
    },
    {
     "name": "stdout",
     "output_type": "stream",
     "text": [
      "에포크 [40/50], 손실: 2.3837, 그래디언트 노름: 12.4356, 정확도: 29.27%\n"
     ]
    },
    {
     "name": "stderr",
     "output_type": "stream",
     "text": [
      "Additional Epochs:  55%|█████▌    | 11/20 [13:10<11:12, 74.73s/it]"
     ]
    },
    {
     "name": "stdout",
     "output_type": "stream",
     "text": [
      "에포크 [41/50], 손실: 2.3736, 그래디언트 노름: 12.5646, 정확도: 28.49%\n"
     ]
    },
    {
     "name": "stderr",
     "output_type": "stream",
     "text": [
      "Additional Epochs:  60%|██████    | 12/20 [14:18<09:41, 72.71s/it]"
     ]
    },
    {
     "name": "stdout",
     "output_type": "stream",
     "text": [
      "에포크 [42/50], 손실: 2.3751, 그래디언트 노름: 12.9024, 정확도: 28.09%\n"
     ]
    },
    {
     "name": "stderr",
     "output_type": "stream",
     "text": [
      "Additional Epochs:  65%|██████▌   | 13/20 [15:33<08:34, 73.53s/it]"
     ]
    },
    {
     "name": "stdout",
     "output_type": "stream",
     "text": [
      "에포크 [43/50], 손실: 2.3766, 그래디언트 노름: 12.9188, 정확도: 28.73%\n"
     ]
    },
    {
     "name": "stderr",
     "output_type": "stream",
     "text": [
      "Additional Epochs:  70%|███████   | 14/20 [16:46<07:19, 73.26s/it]"
     ]
    },
    {
     "name": "stdout",
     "output_type": "stream",
     "text": [
      "에포크 [44/50], 손실: 2.3616, 그래디언트 노름: 12.5156, 정확도: 30.21%\n"
     ]
    },
    {
     "name": "stderr",
     "output_type": "stream",
     "text": [
      "Additional Epochs:  75%|███████▌  | 15/20 [17:55<05:59, 71.88s/it]"
     ]
    },
    {
     "name": "stdout",
     "output_type": "stream",
     "text": [
      "에포크 [45/50], 손실: 2.3728, 그래디언트 노름: 13.6386, 정확도: 27.18%\n"
     ]
    },
    {
     "name": "stderr",
     "output_type": "stream",
     "text": [
      "Additional Epochs:  80%|████████  | 16/20 [19:17<04:59, 74.95s/it]"
     ]
    },
    {
     "name": "stdout",
     "output_type": "stream",
     "text": [
      "에포크 [46/50], 손실: 2.3627, 그래디언트 노름: 12.9871, 정확도: 29.63%\n"
     ]
    },
    {
     "name": "stderr",
     "output_type": "stream",
     "text": [
      "Additional Epochs:  85%|████████▌ | 17/20 [20:36<03:48, 76.25s/it]"
     ]
    },
    {
     "name": "stdout",
     "output_type": "stream",
     "text": [
      "에포크 [47/50], 손실: 2.3494, 그래디언트 노름: 13.2161, 정확도: 29.93%\n"
     ]
    },
    {
     "name": "stderr",
     "output_type": "stream",
     "text": [
      "Additional Epochs:  90%|█████████ | 18/20 [21:51<02:31, 75.89s/it]"
     ]
    },
    {
     "name": "stdout",
     "output_type": "stream",
     "text": [
      "에포크 [48/50], 손실: 2.3458, 그래디언트 노름: 13.9087, 정확도: 29.05%\n"
     ]
    },
    {
     "name": "stderr",
     "output_type": "stream",
     "text": [
      "Additional Epochs:  95%|█████████▌| 19/20 [22:58<01:13, 73.10s/it]"
     ]
    },
    {
     "name": "stdout",
     "output_type": "stream",
     "text": [
      "에포크 [49/50], 손실: 2.3402, 그래디언트 노름: 12.9380, 정확도: 30.36%\n"
     ]
    },
    {
     "name": "stderr",
     "output_type": "stream",
     "text": [
      "Additional Epochs: 100%|██████████| 20/20 [24:05<00:00, 72.29s/it]"
     ]
    },
    {
     "name": "stdout",
     "output_type": "stream",
     "text": [
      "에포크 [50/50], 손실: 2.3511, 그래디언트 노름: 12.3661, 정확도: 28.98%\n",
      "추가 학습 완료\n"
     ]
    },
    {
     "name": "stderr",
     "output_type": "stream",
     "text": [
      "\n"
     ]
    },
    {
     "data": {
      "image/png": "[encoded data removed]",
      "text/plain": [
       "<Figure size 1200x500 with 2 Axes>"
      ]
     },
     "metadata": {},
     "output_type": "display_data"
    },
    {
     "name": "stdout",
     "output_type": "stream",
     "text": [
      "\n",
      "예측 예시:\n",
      "예측된 행동: DOG_WALKRUN\n",
      "관련 메타데이터:\n",
      "  동물: DOG\n",
      "  행동: WALKRUN\n",
      "  통증/질병 여부: N\n",
      "  비정상 행동 여부: N\n",
      "  감정: 편안/안정\n",
      "\n",
      "최종 테스트 정확도: 28.98%\n",
      "\n",
      "행동 클래스:\n",
      "0: CAT_ARCH\n",
      "1: CAT_ARMSTRETCH\n",
      "2: CAT_FOOTPUSH\n",
      "3: CAT_GETDOWN\n",
      "4: CAT_GROOMING\n",
      "5: CAT_HEADING\n",
      "6: CAT_LAYDOWN\n",
      "7: CAT_LYING\n",
      "8: CAT_ROLL\n",
      "9: CAT_SITDOWN\n",
      "10: CAT_TAILING\n",
      "11: CAT_WALKRUN\n",
      "12: DOG_BODYLOWER\n",
      "13: DOG_BODYSCRATCH\n",
      "14: DOG_BODYSHAKE\n",
      "15: DOG_FEETUP\n",
      "16: DOG_FOOTUP\n",
      "17: DOG_HEADING\n",
      "18: DOG_LYING\n",
      "19: DOG_MOUNTING\n",
      "20: DOG_SIT\n",
      "21: DOG_TAILING\n",
      "22: DOG_TAILLOW\n",
      "23: DOG_TURN\n",
      "24: DOG_WALKRUN\n",
      "\n",
      "업데이트된 모델이 'lstm_model_additional.pt'로 저장되었습니다.\n"
     ]
    }
   ],
   "source": [
    "import os\n",
    "import json\n",
    "import torch\n",
    "import torch.nn as nn\n",
    "import torch.optim as optim\n",
    "from torch.utils.data import DataLoader, TensorDataset\n",
    "from sklearn.model_selection import train_test_split\n",
    "import numpy as np\n",
    "import matplotlib.pyplot as plt\n",
    "import matplotlib.font_manager as fm\n",
    "from tqdm import tqdm\n",
    "\n",
    "# 한글 폰트 설정\n",
    "font_path = r'C:\\Windows\\Fonts\\malgun.ttf'  # 맑은 고딕 폰트 경로\n",
    "font_prop = fm.FontProperties(fname=font_path)\n",
    "plt.rcParams['font.family'] = font_prop.get_name()\n",
    "\n",
    "def load_json_files(base_folder):\n",
    "    data = []\n",
    "    labels = []\n",
    "    metadata = []\n",
    "    for animal in ['CAT', 'DOG']:\n",
    "        animal_folder = os.path.join(base_folder, animal)\n",
    "        for action_folder in os.listdir(animal_folder):\n",
    "            action_path = os.path.join(animal_folder, action_folder)\n",
    "            if os.path.isdir(action_path):\n",
    "                class_name = f\"{animal}_{action_folder.upper()}\"\n",
    "                if class_name in CLASSES:\n",
    "                    for filename in os.listdir(action_path):\n",
    "                        if filename.endswith('.json'):\n",
    "                            with open(os.path.join(action_path, filename), 'r', encoding='utf-8') as f:\n",
    "                                json_data = json.load(f)\n",
    "                                sequence = []\n",
    "                                for annotation in json_data['annotations']:\n",
    "                                    keypoints = extract_keypoints(annotation)\n",
    "                                    sequence.append(keypoints)\n",
    "                                data.append(sequence)\n",
    "                                labels.append(CLASSES[class_name])\n",
    "                                metadata.append({\n",
    "                                    'animal': animal,\n",
    "                                    'action': action_folder,\n",
    "                                    'painDisease': json_data['metadata']['inspect']['painDisease'],\n",
    "                                    'abnormalAction': json_data['metadata']['inspect']['abnormalAction'],\n",
    "                                    'emotion': json_data['metadata']['inspect']['emotion']\n",
    "                                })\n",
    "    return data, labels, metadata\n",
    "\n",
    "def extract_keypoints(annotation):\n",
    "    keypoints = []\n",
    "    for i in range(1, 16):\n",
    "        kp = annotation['keypoints'].get(str(i))\n",
    "        if kp:\n",
    "            keypoints.extend([kp['x'], kp['y']])\n",
    "        else:\n",
    "            keypoints.extend([0, 0])\n",
    "    return keypoints\n",
    "\n",
    "def pad_sequences(sequences, max_length):\n",
    "    padded_sequences = []\n",
    "    for seq in sequences:\n",
    "        if len(seq) > max_length:\n",
    "            padded_sequences.append(seq[:max_length])\n",
    "        else:\n",
    "            padded_sequences.append(seq + [seq[-1]] * (max_length - len(seq)))\n",
    "    return padded_sequences\n",
    "\n",
    "class LSTMModel(nn.Module):\n",
    "    def __init__(self, input_size, hidden_size, num_layers, num_classes):\n",
    "        super(LSTMModel, self).__init__()\n",
    "        self.hidden_size = hidden_size\n",
    "        self.num_layers = num_layers\n",
    "        self.lstm = nn.LSTM(input_size, hidden_size, num_layers, batch_first=True)\n",
    "        self.fc = nn.Linear(hidden_size, num_classes)\n",
    "    \n",
    "    def forward(self, x):\n",
    "        h0 = torch.zeros(self.num_layers, x.size(0), self.hidden_size).to(x.device)\n",
    "        c0 = torch.zeros(self.num_layers, x.size(0), self.hidden_size).to(x.device)\n",
    "        out, _ = self.lstm(x, (h0, c0))\n",
    "        out = self.fc(out[:, -1, :])\n",
    "        return out\n",
    "\n",
    "# 저장된 모델 불러오기\n",
    "checkpoint = torch.load('lstm_model_cat_epoch_30.pt')\n",
    "model = LSTMModel(checkpoint['input_size'], checkpoint['hidden_size'], \n",
    "                  checkpoint['num_layers'], checkpoint['num_classes'])\n",
    "model.load_state_dict(checkpoint['model_state_dict'])\n",
    "CLASSES = checkpoint['classes']\n",
    "max_length = checkpoint['max_length']\n",
    "\n",
    "# 데이터 준비\n",
    "base_folder = r'E:\\LSTN_test\\json\\Training'\n",
    "X, y, metadata = load_json_files(base_folder)\n",
    "X_padded = pad_sequences(X, max_length)\n",
    "\n",
    "# 데이터 분할\n",
    "X_train, X_test, y_train, y_test, metadata_train, metadata_test = train_test_split(\n",
    "    X_padded, y, metadata, test_size=0.2, random_state=42)\n",
    "\n",
    "# PyTorch 텐서로 변환\n",
    "X_train = torch.FloatTensor(X_train)\n",
    "X_test = torch.FloatTensor(X_test)\n",
    "y_train = torch.LongTensor(y_train)\n",
    "y_test = torch.LongTensor(y_test)\n",
    "\n",
    "# 데이터로더 생성\n",
    "train_dataset = TensorDataset(X_train, y_train)\n",
    "test_dataset = TensorDataset(X_test, y_test)\n",
    "train_loader = DataLoader(train_dataset, batch_size=32, shuffle=True)\n",
    "test_loader = DataLoader(test_dataset, batch_size=32, shuffle=False)\n",
    "\n",
    "# 학습 파라미터 설정\n",
    "device = torch.device(\"cuda\" if torch.cuda.is_available() else \"cpu\")\n",
    "model.to(device)\n",
    "criterion = nn.CrossEntropyLoss()\n",
    "optimizer = optim.Adam(model.parameters())\n",
    "\n",
    "# 추가 학습\n",
    "additional_epochs = 20\n",
    "total_epochs = 30 + additional_epochs  # 이전 30 에포크 + 추가 20 에포크\n",
    "\n",
    "losses = []\n",
    "grad_norms = []\n",
    "\n",
    "for epoch in tqdm(range(30, total_epochs), desc=\"Additional Epochs\"):\n",
    "    model.train()\n",
    "    epoch_loss = 0\n",
    "    epoch_grad_norm = 0\n",
    "    batch_count = 0\n",
    "    \n",
    "    progress_bar = tqdm(train_loader, desc=f\"Epoch {epoch+1}/{total_epochs}\", leave=False)\n",
    "    for batch_X, batch_y in progress_bar:\n",
    "        batch_X, batch_y = batch_X.to(device), batch_y.to(device)\n",
    "        optimizer.zero_grad()\n",
    "        outputs = model(batch_X)\n",
    "        loss = criterion(outputs, batch_y)\n",
    "        loss.backward()\n",
    "        \n",
    "        # 그래디언트 노름 계산\n",
    "        total_norm = 0\n",
    "        for p in model.parameters():\n",
    "            if p.grad is not None:\n",
    "                param_norm = p.grad.data.norm(2)\n",
    "                total_norm += param_norm.item() ** 2\n",
    "        total_norm = total_norm ** 0.5\n",
    "        \n",
    "        optimizer.step()\n",
    "        \n",
    "        epoch_loss += loss.item()\n",
    "        epoch_grad_norm += total_norm\n",
    "        batch_count += 1\n",
    "        \n",
    "        progress_bar.set_postfix({'loss': f'{loss.item():.4f}'})\n",
    "    \n",
    "    avg_loss = epoch_loss / batch_count\n",
    "    avg_grad_norm = epoch_grad_norm / batch_count\n",
    "    losses.append(avg_loss)\n",
    "    grad_norms.append(avg_grad_norm)\n",
    "    \n",
    "    # 검증\n",
    "    model.eval()\n",
    "    with torch.no_grad():\n",
    "        correct = 0\n",
    "        total = 0\n",
    "        for batch_X, batch_y in test_loader:\n",
    "            batch_X, batch_y = batch_X.to(device), batch_y.to(device)\n",
    "            outputs = model(batch_X)\n",
    "            _, predicted = torch.max(outputs.data, 1)\n",
    "            total += batch_y.size(0)\n",
    "            correct += (predicted == batch_y).sum().item()\n",
    "        \n",
    "        accuracy = 100 * correct / total\n",
    "        print(f'에포크 [{epoch+1}/{total_epochs}], 손실: {avg_loss:.4f}, 그래디언트 노름: {avg_grad_norm:.4f}, 정확도: {accuracy:.2f}%')\n",
    "\n",
    "print(\"추가 학습 완료\")\n",
    "\n",
    "# 손실과 그래디언트 노름 그래프 그리기\n",
    "plt.figure(figsize=(12, 5))\n",
    "plt.subplot(1, 2, 1)\n",
    "plt.plot(losses)\n",
    "plt.title('추가 학습 손실', fontproperties=font_prop)\n",
    "plt.xlabel('에포크', fontproperties=font_prop)\n",
    "plt.ylabel('손실', fontproperties=font_prop)\n",
    "\n",
    "plt.subplot(1, 2, 2)\n",
    "plt.plot(grad_norms)\n",
    "plt.title('추가 학습 그래디언트 노름', fontproperties=font_prop)\n",
    "plt.xlabel('에포크', fontproperties=font_prop)\n",
    "plt.ylabel('그래디언트 노름', fontproperties=font_prop)\n",
    "\n",
    "plt.tight_layout()\n",
    "plt.show()\n",
    "\n",
    "# 예측 함수\n",
    "def predict_with_metadata(model, input_sequence, metadata):\n",
    "    model.eval()\n",
    "    with torch.no_grad():\n",
    "        output = model(input_sequence)\n",
    "        predicted_class = torch.argmax(output, dim=1).item()\n",
    "        predicted_action = [k for k, v in CLASSES.items() if v == predicted_class][0]\n",
    "        related_metadata = metadata[predicted_class]\n",
    "    return predicted_action, related_metadata\n",
    "\n",
    "# 최종 테스트 및 메타데이터 출력\n",
    "model.eval()\n",
    "correct = 0\n",
    "total = 0\n",
    "for i, (batch_X, batch_y) in enumerate(test_loader):\n",
    "    batch_X, batch_y = batch_X.to(device), batch_y.to(device)\n",
    "    outputs = model(batch_X)\n",
    "    _, predicted = torch.max(outputs.data, 1)\n",
    "    total += batch_y.size(0)\n",
    "    correct += (predicted == batch_y).sum().item()\n",
    "    \n",
    "    if i == 0:  # 첫 번째 배치의 첫 번째 샘플에 대해 출력\n",
    "        predicted_action, related_metadata = predict_with_metadata(model, batch_X[0].unsqueeze(0), metadata_test)\n",
    "        print(\"\\n예측 예시:\")\n",
    "        print(f\"예측된 행동: {predicted_action}\")\n",
    "        print(\"관련 메타데이터:\")\n",
    "        print(f\"  동물: {related_metadata['animal']}\")\n",
    "        print(f\"  행동: {related_metadata['action']}\")\n",
    "        print(f\"  통증/질병 여부: {related_metadata['painDisease']}\")\n",
    "        print(f\"  비정상 행동 여부: {related_metadata['abnormalAction']}\")\n",
    "        print(f\"  감정: {related_metadata['emotion']}\")\n",
    "\n",
    "accuracy = 100 * correct / total\n",
    "print(f'\\n최종 테스트 정확도: {accuracy:.2f}%')\n",
    "\n",
    "# 행동 클래스 출력\n",
    "print(\"\\n행동 클래스:\")\n",
    "for action, class_id in CLASSES.items():\n",
    "    print(f\"{class_id}: {action}\")\n",
    "\n",
    "# 업데이트된 모델 저장\n",
    "torch.save({\n",
    "    'model_state_dict': model.state_dict(),\n",
    "    'input_size': checkpoint['input_size'],\n",
    "    'hidden_size': checkpoint['hidden_size'],\n",
    "    'num_layers': checkpoint['num_layers'],\n",
    "    'num_classes': checkpoint['num_classes'],\n",
    "    'max_length': max_length,\n",
    "    'classes': CLASSES\n",
    "}, 'lstm_model_additional.pt')\n",
    "\n",
    "print(\"\\n업데이트된 모델이 'lstm_model_additional.pt'로 저장되었습니다.\")"
   ]
  },
  {
   "cell_type": "code",
   "execution_count": 15,
   "metadata": {},
   "outputs": [
    {
     "name": "stdout",
     "output_type": "stream",
     "text": [
      "                 precision    recall  f1-score   support\n",
      "\n",
      "       CAT_ARCH       0.00      0.00      0.00        32\n",
      " CAT_ARMSTRETCH       0.22      0.04      0.07       591\n",
      "   CAT_FOOTPUSH       0.00      0.00      0.00       152\n",
      "    CAT_GETDOWN       0.00      0.00      0.00       211\n",
      "   CAT_GROOMING       0.46      0.43      0.44      1046\n",
      "    CAT_HEADING       0.00      0.00      0.00       164\n",
      "    CAT_LAYDOWN       0.18      0.04      0.06       356\n",
      "      CAT_LYING       0.28      0.04      0.07       188\n",
      "       CAT_ROLL       0.23      0.03      0.06       144\n",
      "    CAT_SITDOWN       0.29      0.08      0.13       287\n",
      "    CAT_TAILING       0.22      0.39      0.28       618\n",
      "    CAT_WALKRUN       0.06      0.00      0.01       488\n",
      "  DOG_BODYLOWER       0.22      0.26      0.24      1197\n",
      "DOG_BODYSCRATCH       0.00      0.00      0.00       254\n",
      "  DOG_BODYSHAKE       0.00      0.00      0.00       263\n",
      "     DOG_FEETUP       0.37      0.41      0.39       560\n",
      "     DOG_FOOTUP       0.33      0.20      0.25       832\n",
      "    DOG_HEADING       0.00      0.00      0.00       291\n",
      "      DOG_LYING       0.26      0.46      0.33       543\n",
      "   DOG_MOUNTING       0.00      0.00      0.00        85\n",
      "        DOG_SIT       0.27      0.39      0.32      1264\n",
      "    DOG_TAILING       0.18      0.04      0.07       570\n",
      "    DOG_TAILLOW       0.00      0.00      0.00       133\n",
      "       DOG_TURN       0.32      0.18      0.23       362\n",
      "    DOG_WALKRUN       0.30      0.78      0.43      1586\n",
      "\n",
      "       accuracy                           0.29     12217\n",
      "      macro avg       0.17      0.15      0.14     12217\n",
      "   weighted avg       0.24      0.29      0.23     12217\n",
      "\n",
      "Confusion Matrix:\n",
      "[[   0    0    0    0    3    0    0    0    0    0    1    0    2    0\n",
      "     0    0    0    0    1    0    9    1    0    1   14]\n",
      " [   0   26    0    0   36    0    1    2    3    2   58    4   50    0\n",
      "     0   79   12    0   99    0   48    6    0    4  161]\n",
      " [   0    2    0    0   21    1    4    0    0    2   19    0   42    0\n",
      "     0    4    4    0   18    0   23    0    0    0   12]\n",
      " [   0    1    0    0   26    0    6    0    1    6   36    1   54    0\n",
      "     0    2    5    0    4    0   20    2    0    1   46]\n",
      " [   0   14    0    0  446    0   11    0    1   21  202    1   92    0\n",
      "     0    7   30    0   72    0   88    1    0    0   60]\n",
      " [   0    1    0    0    5    0    0    0    1    1    6    0   26    0\n",
      "     0    4    7    0   26    0   21    6    0    1   59]\n",
      " [   0    5    0    0   47    0   13    3    3    1  106    1   42    0\n",
      "     0    3    1    0   57    0   20    1    0    1   52]\n",
      " [   0    7    0    0   27    0   10    7    1    0   22    0    9    0\n",
      "     0    8    0    0   76    0    3    0    0    0   18]\n",
      " [   0    5    0    0   13    0    2    2    5    0    7    1    7    0\n",
      "     0    2    0    0   71    0    2    2    0    0   25]\n",
      " [   0    0    0    0   64    0    1    0    0   23   36    3   91    0\n",
      "     0    1   10    0    6    0   27    1    0    2   22]\n",
      " [   0    7    0    0   78    0    3    1    0    3  241    3   55    0\n",
      "     0    6    4    0   19    0   50    2    0    6  140]\n",
      " [   0    0    0    0   11    0    1    0    0    0   15    2   20    0\n",
      "     0    7    2    0   29    0   43    5    0    8  345]\n",
      " [   0    5    0    0   62    0    7    0    1   15   80    0  316    0\n",
      "     0   31   65    0   45    0  231   20    0   14  305]\n",
      " [   0    4    0    0   27    0    0    0    0    1   24    0   28    0\n",
      "     0    8   15    0   15    0   54    0    0    2   76]\n",
      " [   0    2    0    0    3    0    0    0    0    0    5    1   18    0\n",
      "     0    4    3    0   12    0   31    5    1    7  171]\n",
      " [   0    5    0    0    2    0    0    0    0    0    8    0   19    0\n",
      "     0  227   18    0   42    0   30   10    0    6  193]\n",
      " [   0    2    0    0   11    0    1    0    0    2   15    2  149    0\n",
      "     0   44  164    0   26    0  256   10    0    4  146]\n",
      " [   0    2    0    0    7    0    1    0    0    0   12    1   56    0\n",
      "     0   11   28    0   17    0   75    1    0    2   78]\n",
      " [   0   17    0    0   32    0    5   10    5    0   30    1   65    0\n",
      "     0   18    4    0  251    0   29   13    0    3   60]\n",
      " [   0    1    0    0    0    0    1    0    0    0    3    2    8    0\n",
      "     0    3    4    0    3    0   10    2    0    3   45]\n",
      " [   0    5    0    0   37    0    0    0    0    1   53    0  118    0\n",
      "     0   45  105    0   17    0  487    5    0   31  360]\n",
      " [   0    0    0    0    5    0    0    0    0    0   21    3   74    0\n",
      "     0   33    8    0   20    0   79   25    0   12  290]\n",
      " [   0    1    0    0    2    0    1    0    0    0   24    1   13    0\n",
      "     0    3    1    0    0    0   15    0    0    2   70]\n",
      " [   0    1    0    0    0    0    0    0    0    0    2    0   15    0\n",
      "     0   26    3    1    7    0   39   11    0   66  191]\n",
      " [   0    5    0    0   12    0    3    0    1    0   52    4   61    0\n",
      "     0   30    7    0   38    0   94   10    0   28 1241]]\n"
     ]
    },
    {
     "name": "stderr",
     "output_type": "stream",
     "text": [
      "c:\\Users\\Administrator\\AppData\\Local\\Programs\\Python\\Python312\\Lib\\site-packages\\sklearn\\metrics\\_classification.py:1531: UndefinedMetricWarning: Precision is ill-defined and being set to 0.0 in labels with no predicted samples. Use `zero_division` parameter to control this behavior.\n",
      "  _warn_prf(average, modifier, f\"{metric.capitalize()} is\", len(result))\n",
      "c:\\Users\\Administrator\\AppData\\Local\\Programs\\Python\\Python312\\Lib\\site-packages\\sklearn\\metrics\\_classification.py:1531: UndefinedMetricWarning: Precision is ill-defined and being set to 0.0 in labels with no predicted samples. Use `zero_division` parameter to control this behavior.\n",
      "  _warn_prf(average, modifier, f\"{metric.capitalize()} is\", len(result))\n",
      "c:\\Users\\Administrator\\AppData\\Local\\Programs\\Python\\Python312\\Lib\\site-packages\\sklearn\\metrics\\_classification.py:1531: UndefinedMetricWarning: Precision is ill-defined and being set to 0.0 in labels with no predicted samples. Use `zero_division` parameter to control this behavior.\n",
      "  _warn_prf(average, modifier, f\"{metric.capitalize()} is\", len(result))\n"
     ]
    }
   ],
   "source": [
    "from sklearn.metrics import classification_report, confusion_matrix\n",
    "import numpy as np\n",
    "\n",
    "# 모델 예측\n",
    "model.eval()\n",
    "all_predictions = []\n",
    "all_labels = []\n",
    "\n",
    "with torch.no_grad():\n",
    "    for batch_X, batch_y in test_loader:\n",
    "        batch_X, batch_y = batch_X.to(device), batch_y.to(device)\n",
    "        outputs = model(batch_X)\n",
    "        _, predicted = torch.max(outputs.data, 1)\n",
    "        all_predictions.extend(predicted.cpu().numpy())\n",
    "        all_labels.extend(batch_y.cpu().numpy())\n",
    "\n",
    "# 클래스별 성능 보고서\n",
    "class_names = list(CLASSES.keys())\n",
    "print(classification_report(all_labels, all_predictions, target_names=class_names))\n",
    "\n",
    "# 혼동 행렬\n",
    "conf_matrix = confusion_matrix(all_labels, all_predictions)\n",
    "print(\"Confusion Matrix:\")\n",
    "print(conf_matrix)"
   ]
  },
  {
   "cell_type": "markdown",
   "metadata": {},
   "source": [
    "## 데이터 증강"
   ]
  },
  {
   "cell_type": "code",
   "execution_count": 17,
   "metadata": {},
   "outputs": [
    {
     "name": "stdout",
     "output_type": "stream",
     "text": [
      "Collecting imbalanced-learn\n",
      "  Downloading imbalanced_learn-0.12.3-py3-none-any.whl.metadata (8.3 kB)\n",
      "Requirement already satisfied: numpy>=1.17.3 in c:\\users\\administrator\\appdata\\local\\programs\\python\\python312\\lib\\site-packages (from imbalanced-learn) (1.26.4)\n",
      "Requirement already satisfied: scipy>=1.5.0 in c:\\users\\administrator\\appdata\\local\\programs\\python\\python312\\lib\\site-packages (from imbalanced-learn) (1.14.1)\n",
      "Requirement already satisfied: scikit-learn>=1.0.2 in c:\\users\\administrator\\appdata\\local\\programs\\python\\python312\\lib\\site-packages (from imbalanced-learn) (1.5.1)\n",
      "Requirement already satisfied: joblib>=1.1.1 in c:\\users\\administrator\\appdata\\local\\programs\\python\\python312\\lib\\site-packages (from imbalanced-learn) (1.4.2)\n",
      "Requirement already satisfied: threadpoolctl>=2.0.0 in c:\\users\\administrator\\appdata\\local\\programs\\python\\python312\\lib\\site-packages (from imbalanced-learn) (3.5.0)\n",
      "Downloading imbalanced_learn-0.12.3-py3-none-any.whl (258 kB)\n",
      "Installing collected packages: imbalanced-learn\n",
      "Successfully installed imbalanced-learn-0.12.3\n",
      "Note: you may need to restart the kernel to use updated packages.\n"
     ]
    },
    {
     "name": "stderr",
     "output_type": "stream",
     "text": [
      "DEPRECATION: Loading egg at c:\\users\\administrator\\appdata\\local\\programs\\python\\python312\\lib\\site-packages\\torchlight-1.0-py3.12.egg is deprecated. pip 24.3 will enforce this behaviour change. A possible replacement is to use pip for package installation. Discussion can be found at https://github.com/pypa/pip/issues/12330\n"
     ]
    }
   ],
   "source": [
    "%pip install imbalanced-learn"
   ]
  },
  {
   "cell_type": "code",
   "execution_count": 21,
   "metadata": {},
   "outputs": [],
   "source": [
    "import os\n",
    "import json\n",
    "import torch\n",
    "import torch.nn as nn\n",
    "import torch.optim as optim\n",
    "from torch.utils.data import DataLoader, TensorDataset\n",
    "from sklearn.model_selection import train_test_split\n",
    "from sklearn.utils.class_weight import compute_class_weight\n",
    "import numpy as np\n",
    "import matplotlib.pyplot as plt\n",
    "import matplotlib.font_manager as fm\n",
    "from tqdm import tqdm\n",
    "from imblearn.over_sampling import SMOTE\n",
    "\n",
    "# 한글 폰트 설정\n",
    "font_path = r'C:\\Windows\\Fonts\\malgun.ttf'\n",
    "font_prop = fm.FontProperties(fname=font_path)\n",
    "plt.rcParams['font.family'] = font_prop.get_name()\n",
    "\n",
    "# 클래스 정의\n",
    "CLASSES = {\n",
    "    'CAT_ARCH': 0, 'CAT_ARMSTRETCH': 1, 'CAT_FOOTPUSH': 2, 'CAT_GETDOWN': 3, 'CAT_GROOMING': 4,\n",
    "    'CAT_HEADING': 5, 'CAT_LAYDOWN': 6, 'CAT_LYING': 7, 'CAT_ROLL': 8, 'CAT_SITDOWN': 9,\n",
    "    'CAT_TAILING': 10, 'CAT_WALKRUN': 11,\n",
    "    'DOG_BODYLOWER': 12, 'DOG_BODYSCRATCH': 13, 'DOG_BODYSHAKE': 14, 'DOG_FEETUP': 15, 'DOG_FOOTUP': 16,\n",
    "    'DOG_HEADING': 17, 'DOG_LYING': 18, 'DOG_MOUNTING': 19, 'DOG_SIT': 20, 'DOG_TAILING': 21,\n",
    "    'DOG_TAILLOW': 22, 'DOG_TURN': 23, 'DOG_WALKRUN': 24\n",
    "}\n",
    "\n",
    "def load_json_files(base_folder):\n",
    "    data = []\n",
    "    labels = []\n",
    "    metadata = []\n",
    "    for animal in ['CAT', 'DOG']:\n",
    "        animal_folder = os.path.join(base_folder, animal)\n",
    "        for action_folder in os.listdir(animal_folder):\n",
    "            action_path = os.path.join(animal_folder, action_folder)\n",
    "            if os.path.isdir(action_path):\n",
    "                class_name = f\"{animal}_{action_folder.upper()}\"\n",
    "                if class_name in CLASSES:\n",
    "                    for filename in os.listdir(action_path):\n",
    "                        if filename.endswith('.json'):\n",
    "                            with open(os.path.join(action_path, filename), 'r', encoding='utf-8') as f:\n",
    "                                json_data = json.load(f)\n",
    "                                sequence = []\n",
    "                                for annotation in json_data['annotations']:\n",
    "                                    keypoints = extract_keypoints(annotation)\n",
    "                                    sequence.append(keypoints)\n",
    "                                data.append(sequence)\n",
    "                                labels.append(CLASSES[class_name])\n",
    "                                metadata.append({\n",
    "                                    'animal': animal,\n",
    "                                    'action': action_folder,\n",
    "                                    'painDisease': json_data['metadata']['inspect']['painDisease'],\n",
    "                                    'abnormalAction': json_data['metadata']['inspect']['abnormalAction'],\n",
    "                                    'emotion': json_data['metadata']['inspect']['emotion']\n",
    "                                })\n",
    "    return data, labels, metadata\n",
    "\n",
    "def extract_keypoints(annotation):\n",
    "    keypoints = []\n",
    "    for i in range(1, 16):\n",
    "        kp = annotation['keypoints'].get(str(i))\n",
    "        if kp:\n",
    "            keypoints.extend([kp['x'], kp['y']])\n",
    "        else:\n",
    "            keypoints.extend([0, 0])\n",
    "    return keypoints\n",
    "\n",
    "def pad_sequences(sequences, max_length):\n",
    "    padded_sequences = []\n",
    "    for seq in sequences:\n",
    "        if len(seq) > max_length:\n",
    "            padded_sequences.append(seq[:max_length])\n",
    "        else:\n",
    "            padded_sequences.append(seq + [seq[-1]] * (max_length - len(seq)))\n",
    "    return padded_sequences\n",
    "\n",
    "def augment_sequence(sequence):\n",
    "    augmented = np.array(sequence).copy()\n",
    "    num_frames, num_features = augmented.shape\n",
    "    \n",
    "    # 시간 왜곡\n",
    "    time_warp = np.random.normal(loc=1.0, scale=0.1, size=(num_frames,))\n",
    "    time_warp = np.cumsum(time_warp)\n",
    "    new_frames = np.linspace(0, time_warp[-1], num_frames)\n",
    "    \n",
    "    # 각 특징(x, y 좌표)에 대해 개별적으로 보간\n",
    "    for i in range(num_features):\n",
    "        augmented[:, i] = np.interp(new_frames, time_warp, augmented[:, i])\n",
    "    \n",
    "    # 노이즈 추가\n",
    "    noise = np.random.normal(0, 0.05, augmented.shape)\n",
    "    augmented += noise\n",
    "    \n",
    "    return augmented\n",
    "\n",
    "class ImprovedLSTMModel(nn.Module):\n",
    "    def __init__(self, input_size, hidden_size, num_layers, num_classes):\n",
    "        super(ImprovedLSTMModel, self).__init__()\n",
    "        self.lstm = nn.LSTM(input_size, hidden_size, num_layers, batch_first=True, dropout=0.5)\n",
    "        self.fc1 = nn.Linear(hidden_size, 128)\n",
    "        self.relu = nn.ReLU()\n",
    "        self.dropout = nn.Dropout(0.5)\n",
    "        self.fc2 = nn.Linear(128, num_classes)\n",
    "    \n",
    "    def forward(self, x):\n",
    "        out, _ = self.lstm(x)\n",
    "        out = self.fc1(out[:, -1, :])\n",
    "        out = self.relu(out)\n",
    "        out = self.dropout(out)\n",
    "        out = self.fc2(out)\n",
    "        return out\n",
    "\n",
    "# 데이터 로드 및 전처리\n",
    "base_folder = r'E:\\LSTN_test\\json\\Training'\n",
    "X, y, metadata = load_json_files(base_folder)\n",
    "\n",
    "# 시퀀스 패딩\n",
    "max_length = max(len(seq) for seq in X)\n",
    "X_padded = pad_sequences(X, max_length)\n",
    "\n",
    "# 데이터 분할\n",
    "X_train, X_test, y_train, y_test, metadata_train, metadata_test = train_test_split(\n",
    "    X_padded, y, metadata, test_size=0.2, random_state=42)\n",
    "\n",
    "# 데이터 증강\n",
    "X_train_augmented = []\n",
    "y_train_augmented = []\n",
    "for seq, label in zip(X_train, y_train):\n",
    "    X_train_augmented.append(seq)\n",
    "    y_train_augmented.append(label)\n",
    "    # 각 시퀀스에 대해 1개의 증강된 버전 생성\n",
    "    X_train_augmented.append(augment_sequence(seq))\n",
    "    y_train_augmented.append(label)\n",
    "\n",
    "# PyTorch 텐서로 변환\n",
    "X_train = torch.FloatTensor(X_train_augmented)\n",
    "X_test = torch.FloatTensor(X_test)\n",
    "y_train = torch.LongTensor(y_train_augmented)\n",
    "y_test = torch.LongTensor(y_test)\n",
    "\n",
    "# 데이터로더 생성\n",
    "train_dataset = TensorDataset(X_train, y_train)\n",
    "test_dataset = TensorDataset(X_test, y_test)\n",
    "train_loader = DataLoader(train_dataset, batch_size=32, shuffle=True)\n",
    "test_loader = DataLoader(test_dataset, batch_size=32, shuffle=False)\n",
    "\n",
    "# 모델 초기화\n",
    "input_size = 30\n",
    "hidden_size = 128\n",
    "num_layers = 3\n",
    "num_classes = len(CLASSES)\n",
    "\n",
    "model = ImprovedLSTMModel(input_size, hidden_size, num_layers, num_classes)\n",
    "device = torch.device(\"cuda\" if torch.cuda.is_available() else \"cpu\")\n",
    "model.to(device)\n",
    "\n",
    "# 클래스 가중치 계산\n",
    "class_weights = compute_class_weight('balanced', classes=np.unique(y_train.numpy()), y=y_train.numpy())\n",
    "class_weights = torch.FloatTensor(class_weights).to(device)\n",
    "\n",
    "criterion = nn.CrossEntropyLoss(weight=class_weights)\n",
    "optimizer = optim.Adam(model.parameters(), weight_decay=1e-5)\n",
    "scheduler = optim.lr_scheduler.ReduceLROnPlateau(optimizer, 'min', patience=5, factor=0.1)\n",
    "\n",
    "# 학습\n",
    "num_epochs = 10\n",
    "losses = []\n",
    "accuracies = []\n",
    "\n",
    "for epoch in tqdm(range(num_epochs), desc=\"Epochs\"):\n",
    "    model.train()\n",
    "    epoch_loss = 0\n",
    "    for batch_X, batch_y in train_loader:\n",
    "        batch_X, batch_y = batch_X.to(device), batch_y.to(device)\n",
    "        optimizer.zero_grad()\n",
    "        outputs = model(batch_X)\n",
    "        loss = criterion(outputs, batch_y)\n",
    "        loss.backward()\n",
    "        optimizer.step()\n",
    "        epoch_loss += loss.item()\n",
    "    \n",
    "    avg_loss = epoch_loss / len(train_loader)\n",
    "    losses.append(avg_loss)\n",
    "    \n",
    "    # 검증\n",
    "    model.eval()\n",
    "    correct = 0\n",
    "    total = 0\n",
    "    with torch.no_grad():\n",
    "        for batch_X, batch_y in test_loader:\n",
    "            batch_X, batch_y = batch_X.to(device), batch_y.to(device)\n",
    "            outputs = model(batch_X)\n",
    "            _, predicted = torch.max(outputs.data, 1)\n",
    "            total += batch_y.size(0)\n",
    "            correct += (predicted == batch_y).sum().item()\n",
    "    \n",
    "    accuracy = 100 * correct / total\n",
    "    accuracies.append(accuracy)\n",
    "    \n",
    "    print(f'에포크 [{epoch+1}/{num_epochs}], 손실: {avg_loss:.4f}, 정확도: {accuracy:.2f}%')\n",
    "    \n",
    "    scheduler.step(avg_loss)\n",
    "\n",
    "print(\"학습 완료\")\n",
    "\n",
    "# 그래프 그리기\n",
    "plt.figure(figsize=(12, 5))\n",
    "plt.subplot(1, 2, 1)\n",
    "plt.plot(losses)\n",
    "plt.title('학습 손실', fontproperties=font_prop)\n",
    "plt.xlabel('에포크', fontproperties=font_prop)\n",
    "plt.ylabel('손실', fontproperties=font_prop)\n",
    "\n",
    "plt.subplot(1, 2, 2)\n",
    "plt.plot(accuracies)\n",
    "plt.title('검증 정확도', fontproperties=font_prop)\n",
    "plt.xlabel('에포크', fontproperties=font_prop)\n",
    "plt.ylabel('정확도 (%)', fontproperties=font_prop)\n",
    "\n",
    "plt.tight_layout()\n",
    "plt.show()\n",
    "\n",
    "# 최종 테스트\n",
    "model.eval()\n",
    "all_predictions = []\n",
    "all_labels = []\n",
    "with torch.no_grad():\n",
    "    for batch_X, batch_y in test_loader:\n",
    "        batch_X, batch_y = batch_X.to(device), batch_y.to(device)\n",
    "        outputs = model(batch_X)\n",
    "        _, predicted = torch.max(outputs.data, 1)\n",
    "        all_predictions.extend(predicted.cpu().numpy())\n",
    "        all_labels.extend(batch_y.cpu().numpy())\n",
    "\n",
    "# 분류 보고서 출력\n",
    "from sklearn.metrics import classification_report\n",
    "print(classification_report(all_labels, all_predictions, target_names=list(CLASSES.keys())))\n",
    "\n",
    "# 모델 저장\n",
    "torch.save({\n",
    "    'model_state_dict': model.state_dict(),\n",
    "    'input_size': input_size,\n",
    "    'hidden_size': hidden_size,\n",
    "    'num_layers': num_layers,\n",
    "    'num_classes': num_classes,\n",
    "    'max_length': max_length,\n",
    "    'classes': CLASSES\n",
    "}, 'improved_lstm_model.pt')\n",
    "\n",
    "print(\"\\n'improved_lstm_model.pt'로 저장되었습니다.\")"
   ]
  }
 ],
 "metadata": {
  "kernelspec": {
   "display_name": "base",
   "language": "python",
   "name": "python3"
  },
  "language_info": {
   "codemirror_mode": {
    "name": "ipython",
    "version": 3
   },
   "file_extension": ".py",
   "mimetype": "text/x-python",
   "name": "python",
   "nbconvert_exporter": "python",
   "pygments_lexer": "ipython3",
   "version": "3.12.5"
  }
 },
 "nbformat": 4,
 "nbformat_minor": 2
}
