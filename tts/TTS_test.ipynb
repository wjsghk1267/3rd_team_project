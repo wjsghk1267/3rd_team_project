{
 "cells": [
  {
   "cell_type": "code",
   "execution_count": null,
   "metadata": {},
   "outputs": [],
   "source": [
    "%pip install google-cloud-texttospeech"
   ]
  },
  {
   "cell_type": "code",
   "execution_count": 2,
   "metadata": {},
   "outputs": [],
   "source": [
    "import os\n",
    "from google.cloud import texttospeech\n",
    "from google.oauth2 import service_account\n",
    "import json"
   ]
  },
  {
   "cell_type": "code",
   "execution_count": 4,
   "metadata": {},
   "outputs": [
    {
     "name": "stdout",
     "output_type": "stream",
     "text": [
      "Audio content written to file \"default_voice.mp3\"\n"
     ]
    }
   ],
   "source": [
    "# default_voice.mp3\n",
    "\n",
    "def synthesize_speech(text):\n",
    "    # Set the path to your service account key file\n",
    "    key_path = \"C:\\\\Users\\\\wjsgh\\\\Downloads\\\\workspace\\\\third team project\\\\config\\\\api_key_TTS.json\" # 본인 경로로\n",
    "\n",
    "    # Create credentials using the service account key file\n",
    "    credentials = service_account.Credentials.from_service_account_file(\n",
    "        key_path,\n",
    "        scopes=[\"https://www.googleapis.com/auth/cloud-platform\"]\n",
    "    )\n",
    "\n",
    "    # Create a client instance with the credentials\n",
    "    client = texttospeech.TextToSpeechClient(credentials=credentials)\n",
    "\n",
    "    input_text = texttospeech.SynthesisInput(text=text)\n",
    "    voice = texttospeech.VoiceSelectionParams(\n",
    "        language_code=\"en-US\",\n",
    "        ssml_gender=texttospeech.SsmlVoiceGender.NEUTRAL\n",
    "    )\n",
    "    audio_config = texttospeech.AudioConfig(\n",
    "        audio_encoding=texttospeech.AudioEncoding.MP3\n",
    "    )\n",
    "\n",
    "    response = client.synthesize_speech(\n",
    "        input=input_text,\n",
    "        voice=voice,\n",
    "        audio_config=audio_config\n",
    "    )\n",
    "\n",
    "    with open(\"default_voice.mp3\", \"wb\") as out:\n",
    "        out.write(response.audio_content)\n",
    "        print('Audio content written to file \"default_voice.mp3\"')\n",
    "\n",
    "# 대사\n",
    "synthesize_speech(\"Hello, world!\")"
   ]
  },
  {
   "cell_type": "code",
   "execution_count": 4,
   "metadata": {},
   "outputs": [
    {
     "name": "stdout",
     "output_type": "stream",
     "text": [
      "Audio content written to file \"json_voice.mp3\"\n"
     ]
    }
   ],
   "source": [
    "# json_voice.mp3 - input by json, test output voice.\n",
    "\n",
    "def get_voice_params(config):\n",
    "    gender_map = {\n",
    "        \"MALE\": texttospeech.SsmlVoiceGender.MALE,\n",
    "        \"FEMALE\": texttospeech.SsmlVoiceGender.FEMALE,\n",
    "        \"NEUTRAL\": texttospeech.SsmlVoiceGender.NEUTRAL\n",
    "    }\n",
    "    \n",
    "    # 나이와 성격에 따른 음성 이름 매핑 (예시)\n",
    "    voice_name_map = {\n",
    "        (\"YOUNG\", \"WARM\"): \"ko-KR-Wavenet-A\",  # 여성, 밝고 친근한 목소리\n",
    "        (\"YOUNG\", \"COLD\"): \"ko-KR-Wavenet-B\",  # 여성, 차분하고 전문적인 목소리\n",
    "        (\"OLD\", \"WARM\"): \"ko-KR-Wavenet-C\",    # 남성, 부드럽고 따뜻한 목소리\n",
    "        (\"OLD\", \"COLD\"): \"ko-KR-Wavenet-D\"     # 남성, 깊고 권위있는 목소리\n",
    "    }\n",
    "    \n",
    "    gender = gender_map.get(config['gender'], texttospeech.SsmlVoiceGender.NEUTRAL)\n",
    "    voice_name = voice_name_map.get((config['age'], config['personality']), \"ko-KR-Standard-A\")\n",
    "    \n",
    "    return texttospeech.VoiceSelectionParams(\n",
    "        language_code=config['language'],\n",
    "        name=voice_name,\n",
    "        ssml_gender=gender\n",
    "    )\n",
    "\n",
    "def synthesize_speech2(text, config_path):\n",
    "    # 서비스 계정 키 파일 경로 설정\n",
    "    key_path = \"C:\\\\Users\\\\wjsgh\\\\Downloads\\\\workspace\\\\third team project\\\\config\\\\api_key_TTS.json\"\n",
    "\n",
    "    # 서비스 계정 키 파일을 사용하여 인증 정보 생성\n",
    "    credentials = service_account.Credentials.from_service_account_file(\n",
    "        key_path,\n",
    "        scopes=[\"https://www.googleapis.com/auth/cloud-platform\"]\n",
    "    )\n",
    "\n",
    "    # 인증 정보로 클라이언트 인스턴스 생성\n",
    "    client = texttospeech.TextToSpeechClient(credentials=credentials)\n",
    "\n",
    "    # 음성 설정 JSON 파일 읽기\n",
    "    with open(config_path, 'r') as f:\n",
    "        config = json.load(f)\n",
    "\n",
    "    # 음성 파라미터 가져오기\n",
    "    voice = get_voice_params(config)\n",
    "\n",
    "    input_text = texttospeech.SynthesisInput(text=text)\n",
    "    audio_config = texttospeech.AudioConfig(\n",
    "        audio_encoding=texttospeech.AudioEncoding.MP3\n",
    "    )\n",
    "\n",
    "    response = client.synthesize_speech(\n",
    "        input=input_text,\n",
    "        voice=voice,\n",
    "        audio_config=audio_config\n",
    "    )\n",
    "\n",
    "    with open(\"json_voice.mp3\", \"wb\") as out:\n",
    "        out.write(response.audio_content)\n",
    "        print('Audio content written to file \"json_voice.mp3\"')\n",
    "\n",
    "path = \"C:\\\\Users\\\\wjsgh\\\\Downloads\\\\workspace\\\\third team project\\\\config\\\\voice_config.json\"\n",
    "\n",
    "# 대사\n",
    "synthesize_speech2(\"안녕하세요, 반갑습니다!\", path)"
   ]
  }
 ],
 "metadata": {
  "kernelspec": {
   "display_name": "base",
   "language": "python",
   "name": "python3"
  },
  "language_info": {
   "codemirror_mode": {
    "name": "ipython",
    "version": 3
   },
   "file_extension": ".py",
   "mimetype": "text/x-python",
   "name": "python",
   "nbconvert_exporter": "python",
   "pygments_lexer": "ipython3",
   "version": "3.11.7"
  }
 },
 "nbformat": 4,
 "nbformat_minor": 2
}
